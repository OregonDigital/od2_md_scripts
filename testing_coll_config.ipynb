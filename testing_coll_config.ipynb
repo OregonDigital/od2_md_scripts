{
 "cells": [
  {
   "cell_type": "code",
   "execution_count": 54,
   "metadata": {},
   "outputs": [],
   "source": [
    "# imports\n",
    "import json, yaml, csv, re"
   ]
  },
  {
   "cell_type": "code",
   "execution_count": 55,
   "metadata": {},
   "outputs": [
    {
     "name": "stdout",
     "output_type": "stream",
     "text": [
      "files:\n",
      "\t'L:/DigitalProjects/Metadata/uo_athletics/Work/processing/20240815_Seattle_U_SOC/files'\n",
      "metadata:\n",
      "\t'C:/Users/briesenb/OneDrive - University Of Oregon/_metadata/OD2_working_files/uo_athletics/20240815_Seattle_U_SOC.csv'\n"
     ]
    }
   ],
   "source": [
    "# load directory config\n",
    "# see testing.ipynb\n",
    "with open(\"config.yaml\", \"r\") as yamlfile:\n",
    "    config = yaml.safe_load(yamlfile)\n",
    "# test\n",
    "for k, v in config.items():\n",
    "    print(f\"{k}:\\n\\t'{v}'\")"
   ]
  },
  {
   "cell_type": "code",
   "execution_count": 56,
   "metadata": {},
   "outputs": [],
   "source": [
    "# (make, 1st time) / load config\n",
    "coll_config = {\n",
    "    \"uo-athletics\": {\n",
    "        # \"headers\": [], # to do - list of headers to validate headers\n",
    "        \"identifier\": \"PH395_UP.*\",\n",
    "        # how to setup compare file <> identifier without hard-coding?\n",
    "        # A HA! ADD A FUNCTION NAME!?!?\n",
    "        \"file\": \"id_match_file\"\n",
    "    }\n",
    "}\n",
    "\n",
    "# this will check identifiers against filenames...\n",
    "# assuming filenames match files and shouldn't change\n",
    "def id_match_file(csvfile):\n",
    "    with open(csvfile, \"r\", encoding=\"utf-8-sig\") as metadata:\n",
    "        reader = csv.DictReader(metadata)\n",
    "        mismatch = []\n",
    "        for row in reader:\n",
    "            if row['identifier'] == row['file'].split('.')[0]:\n",
    "                pass\n",
    "            else:\n",
    "                mismatch.append(row['identifier'])\n",
    "    if len(mismatch) > 0:\n",
    "        return mismatch\n",
    "    else:\n",
    "        return \"UO Athletics metadata: identifier values match filenames\"\n",
    "\n",
    "# now I need a dict to connect funcs to func-name-strings?\n",
    "# \n",
    "funcs = {\n",
    "    \"id_match_file\": id_match_file\n",
    "}\n",
    "\n",
    "# confirm structure in YAML\n",
    "with open(\"coll_config.yaml\", \"w+\") as yamlfile:\n",
    "    yaml.dump(coll_config, yamlfile, encoding='utf-8')"
   ]
  },
  {
   "cell_type": "code",
   "execution_count": 57,
   "metadata": {},
   "outputs": [],
   "source": [
    "def check_identifier(csvfile, pattern):\n",
    "    with open(csvfile, \"r\", encoding=\"utf-8-sig\") as metadata:\n",
    "        reader = csv.DictReader(metadata)\n",
    "        p = re.compile(pattern)\n",
    "        malformed = []\n",
    "        for row in reader:\n",
    "            try:\n",
    "                p.match(row['identifier'])\n",
    "            except:\n",
    "                malformed.append(row['identifier'])\n",
    "    if len(malformed) > 0:\n",
    "        return f\"CORRECT identifier values: {malformed}\"\n",
    "    else:\n",
    "        return \"identifier values match regex\""
   ]
  },
  {
   "cell_type": "code",
   "execution_count": 58,
   "metadata": {},
   "outputs": [
    {
     "name": "stdout",
     "output_type": "stream",
     "text": [
      "collection config details:\n",
      "file:\n",
      "\t'id_match_file'\n",
      "identifier:\n",
      "\t'PH395_UP.*'\n"
     ]
    }
   ],
   "source": [
    "coll = input(\"enter collection slug\\n>>>\")\n",
    "with open(\"coll_config.yaml\", \"r\") as yamlfile:\n",
    "    coll_config = yaml.safe_load(yamlfile)\n",
    "# test\n",
    "print(\"collection config details:\")\n",
    "for k, v in coll_config[coll].items():\n",
    "    print(f\"{k}:\\n\\t'{v}'\")"
   ]
  },
  {
   "cell_type": "code",
   "execution_count": 59,
   "metadata": {},
   "outputs": [
    {
     "name": "stdout",
     "output_type": "stream",
     "text": [
      "identifier values match regex\n",
      "UO Athletics metadata: identifier values match filenames\n"
     ]
    }
   ],
   "source": [
    "# ...\n",
    "print(check_identifier(config['metadata'], coll_config[coll]['identifier']))\n",
    "# ...\n",
    "# test\n",
    "# print(coll_config[coll]['file'])\n",
    "if coll_config[coll]['file'] == \"id_match_file\":\n",
    "    print(id_match_file(config['metadata']))"
   ]
  }
 ],
 "metadata": {
  "kernelspec": {
   "display_name": ".venv",
   "language": "python",
   "name": "python3"
  },
  "language_info": {
   "codemirror_mode": {
    "name": "ipython",
    "version": 3
   },
   "file_extension": ".py",
   "mimetype": "text/x-python",
   "name": "python",
   "nbconvert_exporter": "python",
   "pygments_lexer": "ipython3",
   "version": "3.12.8"
  }
 },
 "nbformat": 4,
 "nbformat_minor": 2
}
