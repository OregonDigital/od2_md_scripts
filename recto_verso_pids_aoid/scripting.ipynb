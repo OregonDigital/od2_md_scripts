{
 "cells": [
  {
   "cell_type": "code",
   "execution_count": 11,
   "metadata": {},
   "outputs": [],
   "source": [
    "import csv, os"
   ]
  },
  {
   "cell_type": "code",
   "execution_count": null,
   "metadata": {},
   "outputs": [
    {
     "name": "stdout",
     "output_type": "stream",
     "text": [
      "rows in CSV (minus header) = 3205\n",
      "recto pids in dict rvaoid = 3205\n"
     ]
    }
   ],
   "source": [
    "# make MapPairs > dict\n",
    "rvaoid = {}\n",
    "with open(\"angelusMapPairs2.csv\", \"r\") as csvfile:\n",
    "    reader = csv.DictReader(csvfile)\n",
    "    test_counter = 0\n",
    "    for row in reader:\n",
    "        if row['recto'] != '':\n",
    "            test_counter += 1\n",
    "            rvaoid.update({row['recto']:\n",
    "                           {'verso': row['verso'],\n",
    "                            'aoid': row['archival_object_id']}})\n",
    "# these numbers should match\n",
    "print(f\"rows in CSV (minus header) = {test_counter}\")\n",
    "print(f\"recto pids in dict rvaoid = {len(rvaoid)}\")"
   ]
  },
  {
   "cell_type": "code",
   "execution_count": 10,
   "metadata": {},
   "outputs": [
    {
     "data": {
      "text/plain": [
       "'\\nadding new cols to export 1-15 in GUI...\\nputting a pin in this for now... how to do this easily?\\n'"
      ]
     },
     "execution_count": 10,
     "metadata": {},
     "output_type": "execute_result"
    }
   ],
   "source": [
    "\"\"\"\n",
    "adding new cols to export 1-15 in GUI...\n",
    "putting a pin in this for now... how to do this easily?\n",
    "\"\"\""
   ]
  },
  {
   "cell_type": "code",
   "execution_count": 16,
   "metadata": {},
   "outputs": [
    {
     "name": "stdout",
     "output_type": "stream",
     "text": [
      "['id', 'model', 'children', 'archival_object_id', 'has_finding_aid_1', 'identifier_1', 'institution_1', 'keyword_1', 'keyword_2', 'keyword_3', 'keyword_4', 'keyword_5', 'keyword_6', 'local_collection_id_1', 'repository_1', 'resource_type', 'rights_statement_1', 'license', 'subject_10', 'subject_11', 'subject_12', 'subject_13', 'subject_1', 'subject_2', 'subject_3', 'subject_4', 'subject_5', 'subject_6', 'subject_7', 'subject_8', 'subject_9', 'title_1', 'visibility']\n"
     ]
    }
   ],
   "source": [
    "# csv read test\n",
    "with open(\"test.csv\", \"r\") as csvfile:\n",
    "    reader = csv.DictReader(csvfile)\n",
    "    print(reader.fieldnames)"
   ]
  },
  {
   "cell_type": "code",
   "execution_count": 20,
   "metadata": {},
   "outputs": [],
   "source": [
    "# csv write test\n",
    "\n",
    "testrvaoid = {\n",
    "    \"gb19fh84w\": {\n",
    "        \"verso\": \"gb19fh84w_verso\",\n",
    "        \"aoid\": \"gb19fh84w_aoid\"\n",
    "    },\n",
    "    \"df737g81r\": {\n",
    "        \"verso\": \"df737g81r_verso\",\n",
    "        \"aoid\": \"df737g81r_aoid\"\n",
    "    },\n",
    "    \"bv73cb86r\": {\n",
    "        \"verso\": \"bv73cb86r_verso\",\n",
    "        \"aoid\": \"bv73cb86r_aoid\"\n",
    "    }\n",
    "}\n",
    "\n",
    "with open(\"test.csv\", \"r\") as csvin:\n",
    "    reader = csv.DictReader(csvin)\n",
    "    with open(\"test_out.csv\", \"w+\") as csvout:\n",
    "        writer = csv.writer(csvout)\n",
    "        writer.writerow(reader.fieldnames)\n",
    "        for row in reader:\n",
    "            # print(f\"DictReader row has type {type(row)}, if we print(row):\\n{row}\") # test\n",
    "            if testrvaoid.get(row['id']) != None:\n",
    "                newrow = []\n",
    "                for column in reader.fieldnames:\n",
    "                    if column == \"children\":\n",
    "                        newrow.append(testrvaoid[row['id']]['verso'])\n",
    "                    elif column == \"archival_object_id\":\n",
    "                        newrow.append(testrvaoid[row['id']]['aoid'])\n",
    "                    else:\n",
    "                        newrow.append(row[column])\n",
    "                writer.writerow(newrow)\n",
    "            else:\n",
    "                newrow = []\n",
    "                for column in reader.fieldnames:\n",
    "                    newrow.append(row[column])\n",
    "                writer.writerow(newrow)"
   ]
  },
  {
   "cell_type": "code",
   "execution_count": 12,
   "metadata": {},
   "outputs": [
    {
     "name": "stdout",
     "output_type": "stream",
     "text": [
      "['export_angelus-studio_from_collection_3.csv', 'export_angelus-studio_from_collection_15.csv', 'export_angelus-studio_from_collection_7.csv', 'export_angelus-studio_from_collection_5.csv', 'export_angelus-studio_from_collection_1.csv', 'export_angelus-studio_from_collection_4.csv', 'export_angelus-studio_from_collection_10.csv', 'export_angelus-studio_from_collection_13.csv', 'export_angelus-studio_from_collection_8.csv', 'export_angelus-studio_from_collection_14.csv', 'export_angelus-studio_from_collection_2.csv', 'export_angelus-studio_from_collection_6.csv', 'export_angelus-studio_from_collection_12.csv', 'export_angelus-studio_from_collection_9.csv', 'export_angelus-studio_from_collection_11.csv']\n"
     ]
    }
   ],
   "source": [
    "exports = os.listdir(\"exports\")\n",
    "print(exports) # test"
   ]
  }
 ],
 "metadata": {
  "kernelspec": {
   "display_name": ".venv",
   "language": "python",
   "name": "python3"
  },
  "language_info": {
   "codemirror_mode": {
    "name": "ipython",
    "version": 3
   },
   "file_extension": ".py",
   "mimetype": "text/x-python",
   "name": "python",
   "nbconvert_exporter": "python",
   "pygments_lexer": "ipython3",
   "version": "3.12.3"
  }
 },
 "nbformat": 4,
 "nbformat_minor": 2
}
