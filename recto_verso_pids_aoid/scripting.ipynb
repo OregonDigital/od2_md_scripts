{
 "cells": [
  {
   "cell_type": "code",
   "execution_count": 7,
   "metadata": {},
   "outputs": [],
   "source": [
    "import csv, json, os"
   ]
  },
  {
   "cell_type": "markdown",
   "metadata": {},
   "source": [
    "adding new cols to export 1-15 in GUI...  \n",
    "📌 **there must be an easy / easier way...**  "
   ]
  },
  {
   "cell_type": "code",
   "execution_count": 8,
   "metadata": {},
   "outputs": [
    {
     "name": "stdout",
     "output_type": "stream",
     "text": [
      "['id', 'model', 'children', 'archival_object_id', 'has_finding_aid_1', 'identifier_1', 'institution_1', 'keyword_1', 'keyword_2', 'keyword_3', 'keyword_4', 'keyword_5', 'keyword_6', 'local_collection_id_1', 'repository_1', 'resource_type', 'rights_statement_1', 'license', 'subject_10', 'subject_11', 'subject_12', 'subject_13', 'subject_1', 'subject_2', 'subject_3', 'subject_4', 'subject_5', 'subject_6', 'subject_7', 'subject_8', 'subject_9', 'title_1', 'visibility']\n"
     ]
    }
   ],
   "source": [
    "# csv read test\n",
    "with open(\"test.csv\", \"r\") as csvfile:\n",
    "    reader = csv.DictReader(csvfile)\n",
    "    print(reader.fieldnames)\n",
    "    # for row in reader:\n",
    "    #     print(f\"DictReader row has type {type(row)}, if we print(row):\\n{row}\") # test\n",
    "# oh yeah that's why they call it DictReader"
   ]
  },
  {
   "cell_type": "code",
   "execution_count": 9,
   "metadata": {},
   "outputs": [],
   "source": [
    "# csv write test\n",
    "testrvaoid = {\n",
    "    \"gb19fh84w\": {\n",
    "        \"verso\": \"gb19fh84w_verso\",\n",
    "        \"aoid\": \"gb19fh84w_aoid\"\n",
    "    },\n",
    "    \"df737g81r\": {\n",
    "        \"verso\": \"df737g81r_verso\",\n",
    "        \"aoid\": \"df737g81r_aoid\"\n",
    "    },\n",
    "    \"bv73cb86r\": {\n",
    "        \"verso\": \"bv73cb86r_verso\",\n",
    "        \"aoid\": \"bv73cb86r_aoid\"\n",
    "    }\n",
    "}\n",
    "with open(\"test.csv\", \"r\") as csvin:\n",
    "    reader = csv.DictReader(csvin)\n",
    "    with open(\"test_out.csv\", \"w+\") as csvout:\n",
    "        writer = csv.writer(csvout)\n",
    "        writer.writerow(reader.fieldnames)\n",
    "        for row in reader:\n",
    "            if testrvaoid.get(row['id']) != None:\n",
    "                newrow = []\n",
    "                for column in reader.fieldnames:\n",
    "                    if column == \"children\":\n",
    "                        newrow.append(testrvaoid[row['id']]['verso'])\n",
    "                    elif column == \"archival_object_id\":\n",
    "                        newrow.append(testrvaoid[row['id']]['aoid'])\n",
    "                    else:\n",
    "                        newrow.append(row[column])\n",
    "                writer.writerow(newrow)\n",
    "            else:\n",
    "                newrow = []\n",
    "                for column in reader.fieldnames:\n",
    "                    newrow.append(row[column])\n",
    "                writer.writerow(newrow)"
   ]
  },
  {
   "cell_type": "code",
   "execution_count": 10,
   "metadata": {},
   "outputs": [
    {
     "name": "stdout",
     "output_type": "stream",
     "text": [
      "rows in CSV (minus header) = 3205\n",
      "recto pids in dict rvaoid = 3205\n"
     ]
    }
   ],
   "source": [
    "# make MapPairs a dictionary\n",
    "rvaoid = {}\n",
    "with open(\"angelusMapPairs2.csv\", \"r\") as csvfile:\n",
    "    reader = csv.DictReader(csvfile)\n",
    "    test_counter = 0\n",
    "    for row in reader:\n",
    "        if row['recto'] != '':\n",
    "            test_counter += 1\n",
    "            rvaoid.update({row['recto']:\n",
    "                           {'verso': row['verso'],\n",
    "                            'aoid': row['archival_object_id']}})\n",
    "# these numbers should match\n",
    "print(f\"rows in CSV (minus header) = {test_counter}\")\n",
    "print(f\"recto pids in dict rvaoid = {len(rvaoid)}\")\n",
    "# view data\n",
    "# review = json.dumps(rvaoid, indent=4)\n",
    "# print(review)"
   ]
  },
  {
   "cell_type": "code",
   "execution_count": 11,
   "metadata": {},
   "outputs": [
    {
     "name": "stdout",
     "output_type": "stream",
     "text": [
      "['export_angelus-studio_from_collection_1.csv', 'export_angelus-studio_from_collection_10.csv', 'export_angelus-studio_from_collection_10_processed.csv', 'export_angelus-studio_from_collection_11.csv', 'export_angelus-studio_from_collection_11_processed.csv', 'export_angelus-studio_from_collection_12.csv', 'export_angelus-studio_from_collection_12_processed.csv', 'export_angelus-studio_from_collection_13.csv', 'export_angelus-studio_from_collection_13_processed.csv', 'export_angelus-studio_from_collection_14.csv', 'export_angelus-studio_from_collection_14_processed.csv', 'export_angelus-studio_from_collection_15.csv', 'export_angelus-studio_from_collection_15_processed.csv', 'export_angelus-studio_from_collection_1_processed.csv', 'export_angelus-studio_from_collection_2.csv', 'export_angelus-studio_from_collection_2_processed.csv', 'export_angelus-studio_from_collection_3.csv', 'export_angelus-studio_from_collection_3_processed.csv', 'export_angelus-studio_from_collection_4.csv', 'export_angelus-studio_from_collection_4_processed.csv', 'export_angelus-studio_from_collection_5.csv', 'export_angelus-studio_from_collection_5_processed.csv', 'export_angelus-studio_from_collection_6.csv', 'export_angelus-studio_from_collection_6_processed.csv', 'export_angelus-studio_from_collection_7.csv', 'export_angelus-studio_from_collection_7_processed.csv', 'export_angelus-studio_from_collection_8.csv', 'export_angelus-studio_from_collection_8_processed.csv', 'export_angelus-studio_from_collection_9.csv', 'export_angelus-studio_from_collection_9_processed.csv']\n"
     ]
    }
   ],
   "source": [
    "exports = os.listdir(\"exports\")\n",
    "print(exports) # test"
   ]
  },
  {
   "cell_type": "code",
   "execution_count": 12,
   "metadata": {},
   "outputs": [
    {
     "ename": "OSError",
     "evalue": "[Errno 22] Invalid argument: 'exports/export_angelus-studio_from_collection_15_processed.csv'",
     "output_type": "error",
     "traceback": [
      "\u001b[1;31m---------------------------------------------------------------------------\u001b[0m",
      "\u001b[1;31mOSError\u001b[0m                                   Traceback (most recent call last)",
      "Cell \u001b[1;32mIn[12], line 6\u001b[0m\n\u001b[0;32m      4\u001b[0m \u001b[38;5;28;01mwith\u001b[39;00m \u001b[38;5;28mopen\u001b[39m(\u001b[38;5;124mf\u001b[39m\u001b[38;5;124m\"\u001b[39m\u001b[38;5;124mexports/\u001b[39m\u001b[38;5;132;01m{\u001b[39;00mfile\u001b[38;5;132;01m}\u001b[39;00m\u001b[38;5;124m\"\u001b[39m, \u001b[38;5;124m\"\u001b[39m\u001b[38;5;124mr\u001b[39m\u001b[38;5;124m\"\u001b[39m) \u001b[38;5;28;01mas\u001b[39;00m csvin:\n\u001b[0;32m      5\u001b[0m     reader \u001b[38;5;241m=\u001b[39m csv\u001b[38;5;241m.\u001b[39mDictReader(csvin)\n\u001b[1;32m----> 6\u001b[0m     \u001b[38;5;28;01mwith\u001b[39;00m \u001b[38;5;28;43mopen\u001b[39;49m\u001b[43m(\u001b[49m\u001b[38;5;124;43mf\u001b[39;49m\u001b[38;5;124;43m\"\u001b[39;49m\u001b[38;5;124;43mexports/\u001b[39;49m\u001b[38;5;132;43;01m{\u001b[39;49;00m\u001b[43mfile\u001b[49m\u001b[38;5;241;43m.\u001b[39;49m\u001b[43msplit\u001b[49m\u001b[43m(\u001b[49m\u001b[38;5;124;43m'\u001b[39;49m\u001b[38;5;124;43m.\u001b[39;49m\u001b[38;5;124;43m'\u001b[39;49m\u001b[43m)\u001b[49m\u001b[43m[\u001b[49m\u001b[38;5;241;43m0\u001b[39;49m\u001b[43m]\u001b[49m\u001b[38;5;132;43;01m}\u001b[39;49;00m\u001b[38;5;124;43m_processed.csv\u001b[39;49m\u001b[38;5;124;43m\"\u001b[39;49m\u001b[43m,\u001b[49m\u001b[43m \u001b[49m\u001b[38;5;124;43m\"\u001b[39;49m\u001b[38;5;124;43mw+\u001b[39;49m\u001b[38;5;124;43m\"\u001b[39;49m\u001b[43m,\u001b[49m\u001b[43m \u001b[49m\u001b[43mnewline\u001b[49m\u001b[38;5;241;43m=\u001b[39;49m\u001b[38;5;124;43m'\u001b[39;49m\u001b[38;5;124;43m'\u001b[39;49m\u001b[43m)\u001b[49m \u001b[38;5;28;01mas\u001b[39;00m csvout:\n\u001b[0;32m      7\u001b[0m         writer \u001b[38;5;241m=\u001b[39m csv\u001b[38;5;241m.\u001b[39mwriter(csvout)\n\u001b[0;32m      8\u001b[0m         writer\u001b[38;5;241m.\u001b[39mwriterow(reader\u001b[38;5;241m.\u001b[39mfieldnames)\n",
      "File \u001b[1;32mc:\\Users\\briesenb\\vsc\\.venv\\Lib\\site-packages\\IPython\\core\\interactiveshell.py:324\u001b[0m, in \u001b[0;36m_modified_open\u001b[1;34m(file, *args, **kwargs)\u001b[0m\n\u001b[0;32m    317\u001b[0m \u001b[38;5;28;01mif\u001b[39;00m file \u001b[38;5;129;01min\u001b[39;00m {\u001b[38;5;241m0\u001b[39m, \u001b[38;5;241m1\u001b[39m, \u001b[38;5;241m2\u001b[39m}:\n\u001b[0;32m    318\u001b[0m     \u001b[38;5;28;01mraise\u001b[39;00m \u001b[38;5;167;01mValueError\u001b[39;00m(\n\u001b[0;32m    319\u001b[0m         \u001b[38;5;124mf\u001b[39m\u001b[38;5;124m\"\u001b[39m\u001b[38;5;124mIPython won\u001b[39m\u001b[38;5;124m'\u001b[39m\u001b[38;5;124mt let you open fd=\u001b[39m\u001b[38;5;132;01m{\u001b[39;00mfile\u001b[38;5;132;01m}\u001b[39;00m\u001b[38;5;124m by default \u001b[39m\u001b[38;5;124m\"\u001b[39m\n\u001b[0;32m    320\u001b[0m         \u001b[38;5;124m\"\u001b[39m\u001b[38;5;124mas it is likely to crash IPython. If you know what you are doing, \u001b[39m\u001b[38;5;124m\"\u001b[39m\n\u001b[0;32m    321\u001b[0m         \u001b[38;5;124m\"\u001b[39m\u001b[38;5;124myou can use builtins\u001b[39m\u001b[38;5;124m'\u001b[39m\u001b[38;5;124m open.\u001b[39m\u001b[38;5;124m\"\u001b[39m\n\u001b[0;32m    322\u001b[0m     )\n\u001b[1;32m--> 324\u001b[0m \u001b[38;5;28;01mreturn\u001b[39;00m \u001b[43mio_open\u001b[49m\u001b[43m(\u001b[49m\u001b[43mfile\u001b[49m\u001b[43m,\u001b[49m\u001b[43m \u001b[49m\u001b[38;5;241;43m*\u001b[39;49m\u001b[43margs\u001b[49m\u001b[43m,\u001b[49m\u001b[43m \u001b[49m\u001b[38;5;241;43m*\u001b[39;49m\u001b[38;5;241;43m*\u001b[39;49m\u001b[43mkwargs\u001b[49m\u001b[43m)\u001b[49m\n",
      "\u001b[1;31mOSError\u001b[0m: [Errno 22] Invalid argument: 'exports/export_angelus-studio_from_collection_15_processed.csv'"
     ]
    }
   ],
   "source": [
    "# process the data\n",
    "for file in exports:\n",
    "    if \"processed\" not in file:\n",
    "        with open(f\"exports/{file}\", \"r\") as csvin:\n",
    "            reader = csv.DictReader(csvin)\n",
    "            with open(f\"exports/{file.split('.')[0]}_processed.csv\", \"w+\", newline='') as csvout:\n",
    "                writer = csv.writer(csvout)\n",
    "                writer.writerow(reader.fieldnames)\n",
    "                for row in reader:\n",
    "                    if rvaoid.get(row['id']) != None:\n",
    "                        newrow = []\n",
    "                        for column in reader.fieldnames:\n",
    "                            if column == \"children\":\n",
    "                                newrow.append(rvaoid[row['id']]['verso'])\n",
    "                            elif column == \"archival_object_id\":\n",
    "                                newrow.append(rvaoid[row['id']]['aoid'])\n",
    "                            else:\n",
    "                                newrow.append(row[column])\n",
    "                        writer.writerow(newrow)\n",
    "                        # should this remove recto-verso-aoid pairs/triplets after they've been added to a sheet?\n",
    "                        # could these occur in more than one sheet?\n",
    "                        # del rvaoid[row['id']]\n",
    "                    else:\n",
    "                        newrow = []\n",
    "                        for column in reader.fieldnames:\n",
    "                            newrow.append(row[column])\n",
    "                        writer.writerow(newrow)\n",
    "print(f\"recto pids in dict rvaoid following processing = {len(rvaoid)}\")\n",
    "\n"
   ]
  }
 ],
 "metadata": {
  "kernelspec": {
   "display_name": ".venv",
   "language": "python",
   "name": "python3"
  },
  "language_info": {
   "codemirror_mode": {
    "name": "ipython",
    "version": 3
   },
   "file_extension": ".py",
   "mimetype": "text/x-python",
   "name": "python",
   "nbconvert_exporter": "python",
   "pygments_lexer": "ipython3",
   "version": "3.12.8"
  }
 },
 "nbformat": 4,
 "nbformat_minor": 2
}
