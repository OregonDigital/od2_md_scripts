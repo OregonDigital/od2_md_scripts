{
 "cells": [
  {
   "cell_type": "code",
   "execution_count": null,
   "metadata": {},
   "outputs": [],
   "source": [
    "# this works\n",
    "class MyClass: # this solution from Google Gemini\n",
    "    def method_a(self):\n",
    "        return \"Method A called\"\n",
    "\n",
    "    def method_b(self):\n",
    "        return \"Method B called\"\n",
    "\n",
    "    def method_c(self):\n",
    "        return \"Method C called\"\n",
    "\n",
    "    def select_and_call_method(self, key):\n",
    "        method_mapping = {\n",
    "            \"a\": self.method_a,\n",
    "            \"b\": self.method_b,\n",
    "            \"c\": self.method_c,\n",
    "        }\n",
    "        \n",
    "        method = method_mapping.get(key)\n",
    "        if method:\n",
    "            return method() # how does this work???\n",
    "        else:\n",
    "            return \"Invalid key\"\n",
    "\n"
   ]
  },
  {
   "cell_type": "code",
   "execution_count": 3,
   "metadata": {},
   "outputs": [
    {
     "name": "stdout",
     "output_type": "stream",
     "text": [
      "Method A called\n",
      "Method B called\n",
      "Method C called\n",
      "Invalid key\n"
     ]
    }
   ],
   "source": [
    "obj = MyClass()\n",
    "\n",
    "print(obj.select_and_call_method(\"a\"))\n",
    "print(obj.select_and_call_method(\"b\"))\n",
    "print(obj.select_and_call_method(\"c\"))\n",
    "print(obj.select_and_call_method(\"d\"))"
   ]
  },
  {
   "cell_type": "code",
   "execution_count": null,
   "metadata": {},
   "outputs": [],
   "source": [
    "# (!) this does not work\n",
    "class MyClass: # this from MS Copilot\n",
    "\n",
    "\n",
    "    def __init__(self):\n",
    "        self.method_dict = {\n",
    "            \"identifier\": self.default_identifier,\n",
    "            \"file\": self.default_file\n",
    "        }\n",
    "    \n",
    "\n",
    "    def default_identifier(self):\n",
    "        print(\"default_identifier method called\")\n",
    "    \n",
    "\n",
    "    def default_file(self):\n",
    "        print(\"default_file method called\")\n",
    "    \n",
    "\n",
    "    def call_method(self, key):\n",
    "        if key in self.method_dict:\n",
    "            self.method_dictkey\n",
    "        else:\n",
    "            print(f\"No method associated with key {key}\")\n",
    "\n"
   ]
  },
  {
   "cell_type": "code",
   "execution_count": 6,
   "metadata": {},
   "outputs": [
    {
     "ename": "AttributeError",
     "evalue": "'MyClass' object has no attribute 'method_dictkey'",
     "output_type": "error",
     "traceback": [
      "\u001b[1;31m---------------------------------------------------------------------------\u001b[0m",
      "\u001b[1;31mAttributeError\u001b[0m                            Traceback (most recent call last)",
      "Cell \u001b[1;32mIn[6], line 4\u001b[0m\n\u001b[0;32m      2\u001b[0m to_call \u001b[38;5;241m=\u001b[39m [ \u001b[38;5;124m\"\u001b[39m\u001b[38;5;124midentifier\u001b[39m\u001b[38;5;124m\"\u001b[39m, \u001b[38;5;124m\"\u001b[39m\u001b[38;5;124mfile\u001b[39m\u001b[38;5;124m\"\u001b[39m, \u001b[38;5;124m\"\u001b[39m\u001b[38;5;124mrights_statement\u001b[39m\u001b[38;5;124m\"\u001b[39m ]\n\u001b[0;32m      3\u001b[0m \u001b[38;5;28;01mfor\u001b[39;00m method \u001b[38;5;129;01min\u001b[39;00m to_call:\n\u001b[1;32m----> 4\u001b[0m     \u001b[43mtest\u001b[49m\u001b[38;5;241;43m.\u001b[39;49m\u001b[43mcall_method\u001b[49m\u001b[43m(\u001b[49m\u001b[43mmethod\u001b[49m\u001b[43m)\u001b[49m\n",
      "Cell \u001b[1;32mIn[5], line 21\u001b[0m, in \u001b[0;36mMyClass.call_method\u001b[1;34m(self, key)\u001b[0m\n\u001b[0;32m     19\u001b[0m \u001b[38;5;28;01mdef\u001b[39;00m\u001b[38;5;250m \u001b[39m\u001b[38;5;21mcall_method\u001b[39m(\u001b[38;5;28mself\u001b[39m, key):\n\u001b[0;32m     20\u001b[0m     \u001b[38;5;28;01mif\u001b[39;00m key \u001b[38;5;129;01min\u001b[39;00m \u001b[38;5;28mself\u001b[39m\u001b[38;5;241m.\u001b[39mmethod_dict:\n\u001b[1;32m---> 21\u001b[0m         \u001b[38;5;28;43mself\u001b[39;49m\u001b[38;5;241;43m.\u001b[39;49m\u001b[43mmethod_dictkey\u001b[49m\n\u001b[0;32m     22\u001b[0m     \u001b[38;5;28;01melse\u001b[39;00m:\n\u001b[0;32m     23\u001b[0m         \u001b[38;5;28mprint\u001b[39m(\u001b[38;5;124mf\u001b[39m\u001b[38;5;124m\"\u001b[39m\u001b[38;5;124mNo method associated with key \u001b[39m\u001b[38;5;132;01m{\u001b[39;00mkey\u001b[38;5;132;01m}\u001b[39;00m\u001b[38;5;124m\"\u001b[39m)\n",
      "\u001b[1;31mAttributeError\u001b[0m: 'MyClass' object has no attribute 'method_dictkey'"
     ]
    }
   ],
   "source": [
    "test = MyClass()\n",
    "to_call = [ \"identifier\", \"file\", \"rights_statement\" ]\n",
    "for method in to_call:\n",
    "    test.call_method(method)"
   ]
  }
 ],
 "metadata": {
  "kernelspec": {
   "display_name": ".venv",
   "language": "python",
   "name": "python3"
  },
  "language_info": {
   "codemirror_mode": {
    "name": "ipython",
    "version": 3
   },
   "file_extension": ".py",
   "mimetype": "text/x-python",
   "name": "python",
   "nbconvert_exporter": "python",
   "pygments_lexer": "ipython3",
   "version": "3.12.9"
  }
 },
 "nbformat": 4,
 "nbformat_minor": 2
}
