{
 "cells": [
  {
   "cell_type": "markdown",
   "metadata": {},
   "source": [
    "***asked for some example code***  \n",
    "*see [prompt](https://www.microsoft365.com/chat/entity1-d870f6cd-4aa5-4d42-9626-ab690c041429/eyJpZCI6IlZYTmxjbFl4ZkdoMGRIQnpPaTh2YzNWaWMzUnlZWFJsTFdsdWRDNXZabVpwWTJVdVkyOXRMM3hQU1VRNk0yWTBOMkV4TldVdFpXSmtOQzAwTm1VeExXSTNZV1V0WWpFNU5qWTFNRGd3WmpOa2ZHRXdNekkwWVRZMUxUSXhPREV0TkRNMU5DMWhNR0kzTFdFNFl6VmtOekV4WmpsbU5Id3lNREkxTFRBekxURTFWREF3T2pRMU9qSTRMak16TURrNE5USmEiLCJzY2VuYXJpbyI6InNoYXJlTGlua1ZpYVBvcG92ZXIiLCJwcm9wZXJ0aWVzIjp7InByb21wdFNvdXJjZSI6InVzZXIiLCJjbGlja1RpbWVzdGFtcCI6IjIwMjUtMDMtMTVUMDA6NDU6MjguMDg4WiJ9LCJjaGF0VHlwZSI6IndlYiIsInZlcnNpb24iOjEuMX0)*  \n",
    "\n",
    "was curious about an `Ingest` class that has attributes which are each instances of a `FieldValues` class -- each of these instances stores data from a given column (for delimited data)  \n",
    "\n",
    "I have not yet reviewed this code carefully and don't fully understand it  \n",
    "\n",
    "didn't include in prompt, but also thinking about which class would have which method... seems like `FieldValues` would have validation methods, but these will need the config data, which seems like it would be an attribute of the `Ingest` class, so unsure about this -- also, in the example, Ingest has the validate method! So I'm not sure having a second class even makes sense, just looking at this... see the example code I got below, putting the two classes in test_Ingest.py for some testing here  \n",
    "\n",
    "```Python\n",
    "# the example code I got, with class names capitalized\n",
    "import pandas as pd\n",
    "\n",
    "class FieldValues:\n",
    "    def __init__(self, values):\n",
    "        # Split values by '|' and store them as a list\n",
    "        self.values = values.split('|') if isinstance(values, str) else [values]\n",
    "\n",
    "class Ingest:\n",
    "    def __init__(self, dataframe):\n",
    "        # Dynamically create attributes for each column in the dataframe\n",
    "        for column in dataframe.columns:\n",
    "            setattr(self, column, FieldValues(dataframe[column].tolist()))\n",
    "\n",
    "    def validate(self):\n",
    "        # Example validation method\n",
    "        for attr, value in self.__dict__.items():\n",
    "            print(f\"Validating {attr}: {value.values}\")\n",
    "\n",
    "# Example usage\n",
    "# Assuming you have a CSV file named 'data.csv'\n",
    "df = pd.read_csv('data.csv')\n",
    "\n",
    "# Create an instance of the Ingest class\n",
    "data_ingest = Ingest(df)\n",
    "\n",
    "# Validate the data\n",
    "data_ingest.validate()\n",
    "```\n",
    "\n"
   ]
  },
  {
   "cell_type": "code",
   "execution_count": 3,
   "metadata": {},
   "outputs": [],
   "source": [
    "import pandas as pd\n",
    "from test_ingest import FieldValues, Ingest"
   ]
  },
  {
   "cell_type": "code",
   "execution_count": 4,
   "metadata": {},
   "outputs": [
    {
     "name": "stdout",
     "output_type": "stream",
     "text": [
      "Validating dmrec: [[nan, nan, nan]]\n",
      "Validating file: [['PH395_UP_FB_20230902_01_recto.tif|PH395_UP_FB_20230902_01_verso.tif', 'PH395_UP_FB_20230902_02_recto.tif|PH395_UP_FB_20230902_02_verso.tif', 'PH395_UP_FB_20230902_03_recto.tif|PH395_UP_FB_20230902_03_verso.tif']]\n",
      "Validating identifier: [['PH395_UP_FB_20230902_01', 'PH395_UP_FB_20230902_02', 'PH395_UP_FB_20230902_03']]\n",
      "Validating title: [['Autzen Stadium postcard', 'Football pre-game postcard', 'Football player postcard']]\n",
      "Validating description: [[\"Color photo postcard of the University of Oregon's Autzen Stadium, taken from the press box through a fisheye lens before a football game against Portland State on September 2, 2023. The Ducks won the game 81-7.\", 'Color photo postcard of five football players during drills before a game .', 'Color photo postcard of a football player.']]\n",
      "Validating local_collection_name: [['http://opaquenamespace.org/ns/localCollectionName/UniversityPhotosPaulHarveyIV', 'http://opaquenamespace.org/ns/localCollectionName/UniversityPhotosPaulHarveyIV', 'http://opaquenamespace.org/ns/localCollectionName/UniversityPhotosPaulHarveyIV']]\n",
      "Validating local_collection_id: [['PH395 UP', 'PH395 UP', 'PH395 UP']]\n",
      "Validating photographer: [['http://opaquenamespace.org/ns/creator/HarveyPaulWIV', 'http://opaquenamespace.org/ns/creator/HarveyPaulWIV', 'http://opaquenamespace.org/ns/creator/HarveyPaulWIV']]\n",
      "Validating date: [['2023-09-02', '2023-09-02', '2023-09-02']]\n",
      "Validating subject: [['http://id.loc.gov/authorities/subjects/sh85127212', 'http://opaquenamespace.org/ns/people/PleasantRodrick|http://opaquenamespace.org/ns/people/ReedNikko|http://opaquenamespace.org/ns/people/JohnsonTez|http://opaquenamespace.org/ns/people/IrvingBucky|http://opaquenamespace.org/ns/people/FranklinTroy|http://id.loc.gov/authorities/subjects/sh85050420', 'http://opaquenamespace.org/ns/people/BassaJeffrey|http://opaquenamespace.org/ns/people/JohnsonTysheem|http://id.loc.gov/authorities/subjects/sh85050420']]\n",
      "Validating location: [['https://sws.geonames.org/5711930/', 'https://sws.geonames.org/5711930/', 'https://sws.geonames.org/5711930/']]\n",
      "Validating resource_type: [['http://purl.org/dc/dcmitype/Image', 'http://purl.org/dc/dcmitype/Image', 'http://purl.org/dc/dcmitype/Image']]\n",
      "Validating format: [['https://w3id.org/spar/mediatype/image/tiff', 'https://w3id.org/spar/mediatype/image/tiff', 'https://w3id.org/spar/mediatype/image/tiff']]\n",
      "Validating rights_statement: [['http://rightsstatements.org/vocab/InC/1.0/', 'http://rightsstatements.org/vocab/InC/1.0/', 'http://rightsstatements.org/vocab/InC/1.0/']]\n",
      "Validating license: [['http://creativecommons.org/licenses/by-nd/4.0/', 'http://creativecommons.org/licenses/by-nd/4.0/', 'http://creativecommons.org/licenses/by-nd/4.0/']]\n",
      "Validating rights_holder: [['Harvey, Paul W., IV', 'Harvey, Paul W., IV', 'Harvey, Paul W., IV']]\n",
      "Validating institution: [['http://id.loc.gov/authorities/names/n80126183', 'http://id.loc.gov/authorities/names/n80126183', 'http://id.loc.gov/authorities/names/n80126183']]\n",
      "Validating model: [['Image', 'Image', 'Image']]\n",
      "Validating has_finding_aid: [['https://scua.uoregon.edu/repositories/2/resources/9512', 'https://scua.uoregon.edu/repositories/2/resources/9512', 'https://scua.uoregon.edu/repositories/2/resources/9512']]\n",
      "Validating visibility: [['open', 'open', 'open']]\n",
      "Validating repository: [['http://id.loc.gov/authorities/names/no2003116678', 'http://id.loc.gov/authorities/names/no2003116678', 'http://id.loc.gov/authorities/names/no2003116678']]\n",
      "Validating full_size_download_allowed: [[0, 0, 0]]\n"
     ]
    }
   ],
   "source": [
    "df = pd.read_csv('test.csv')\n",
    "test = Ingest(df)\n",
    "test.validate() "
   ]
  }
 ],
 "metadata": {
  "kernelspec": {
   "display_name": ".venv",
   "language": "python",
   "name": "python3"
  },
  "language_info": {
   "codemirror_mode": {
    "name": "ipython",
    "version": 3
   },
   "file_extension": ".py",
   "mimetype": "text/x-python",
   "name": "python",
   "nbconvert_exporter": "python",
   "pygments_lexer": "ipython3",
   "version": "3.12.3"
  }
 },
 "nbformat": 4,
 "nbformat_minor": 2
}
