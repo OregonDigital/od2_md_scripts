{
 "cells": [
  {
   "cell_type": "code",
   "execution_count": 4,
   "metadata": {},
   "outputs": [],
   "source": [
    "# %pip install pandas\n",
    "# %pip show pandas\n",
    "import pandas as pd\n",
    "import yaml"
   ]
  },
  {
   "cell_type": "code",
   "execution_count": 5,
   "metadata": {},
   "outputs": [],
   "source": [
    "with open(\"../files_config.yaml\", \"r\") as yamlfile:\n",
    "    config = yaml.safe_load(yamlfile)"
   ]
  },
  {
   "cell_type": "code",
   "execution_count": 6,
   "metadata": {},
   "outputs": [],
   "source": [
    "seattleu = pd.read_csv(config['metadata'])"
   ]
  },
  {
   "cell_type": "code",
   "execution_count": 8,
   "metadata": {},
   "outputs": [
    {
     "name": "stdout",
     "output_type": "stream",
     "text": [
      "seattleu['local_collection_id'].unique()\n",
      "['PH395 UP']\n",
      "seattleu['local_collection_name'].unique()\n",
      "['http://opaquenamespace.org/ns/localCollectionName/UniversityPhotosPaulHarveyIV']\n"
     ]
    }
   ],
   "source": [
    "print(f\"seattleu['local_collection_id'].unique()\\n{seattleu['local_collection_id'].unique()}\")\n",
    "print(f\"seattleu['local_collection_name'].unique()\\n{seattleu['local_collection_name'].unique()}\")"
   ]
  },
  {
   "cell_type": "code",
   "execution_count": 18,
   "metadata": {},
   "outputs": [
    {
     "name": "stdout",
     "output_type": "stream",
     "text": [
      "[nan]\n",
      "<class 'numpy.ndarray'>\n"
     ]
    }
   ],
   "source": [
    "print(seattleu['dmrec'].unique())\n",
    "print(type(seattleu['dmrec'].unique()))\n",
    "if seattleu['dmrec'].unique() > 0:\n",
    "    print(\"ERROR: value(s) in dmrec column\")"
   ]
  },
  {
   "cell_type": "code",
   "execution_count": null,
   "metadata": {},
   "outputs": [],
   "source": []
  }
 ],
 "metadata": {
  "kernelspec": {
   "display_name": ".venv",
   "language": "python",
   "name": "python3"
  },
  "language_info": {
   "codemirror_mode": {
    "name": "ipython",
    "version": 3
   },
   "file_extension": ".py",
   "mimetype": "text/x-python",
   "name": "python",
   "nbconvert_exporter": "python",
   "pygments_lexer": "ipython3",
   "version": "3.12.8"
  }
 },
 "nbformat": 4,
 "nbformat_minor": 2
}
