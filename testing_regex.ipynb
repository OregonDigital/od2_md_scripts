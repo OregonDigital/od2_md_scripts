{
 "cells": [
  {
   "cell_type": "code",
   "execution_count": 4,
   "metadata": {},
   "outputs": [],
   "source": [
    "import csv, re"
   ]
  },
  {
   "cell_type": "code",
   "execution_count": 5,
   "metadata": {},
   "outputs": [],
   "source": [
    "\n",
    "csvfile = \"C:/Users/briesenb/OneDrive - University Of Oregon/_metadata/OD2_working_files/uo-athletics/20240815_Seattle_U_SOC.csv\"\n",
    "pattern = \"^PH395_UP.*$\""
   ]
  },
  {
   "cell_type": "code",
   "execution_count": null,
   "metadata": {},
   "outputs": [],
   "source": [
    "with open(csvfile, \"r\", encoding=\"utf-8-sig\") as csvmetadata:\n",
    "    reader = csv.DictReader(csvmetadata)\n",
    "    p = re.compile(pattern)\n",
    "    malformed = []\n",
    "    for row in reader:\n",
    "        try:\n",
    "            p.match(row['identifier'])\n",
    "        except:\n",
    "            malformed.append(row['identifier'])\n",
    "\n",
    "print(malformed)\n",
    "# this isn't working"
   ]
  },
  {
   "cell_type": "code",
   "execution_count": 9,
   "metadata": {},
   "outputs": [
    {
     "name": "stdout",
     "output_type": "stream",
     "text": [
      "[]\n"
     ]
    }
   ],
   "source": [
    "values = [\n",
    "    \"PHP395_UP_SOC_20240815_01\",\n",
    "    \"blarf\",\n",
    "    \"PH395_UP_hellothereanything\"\n",
    "]\n",
    "p = re.compile(\"PH395_UP.*\")\n",
    "malformed = []\n",
    "for value in values:\n",
    "    try:\n",
    "        p.match(value)\n",
    "    except:\n",
    "        malformed.append(value)\n",
    "print(malformed)"
   ]
  }
 ],
 "metadata": {
  "kernelspec": {
   "display_name": ".venv",
   "language": "python",
   "name": "python3"
  },
  "language_info": {
   "codemirror_mode": {
    "name": "ipython",
    "version": 3
   },
   "file_extension": ".py",
   "mimetype": "text/x-python",
   "name": "python",
   "nbconvert_exporter": "python",
   "pygments_lexer": "ipython3",
   "version": "3.12.9"
  }
 },
 "nbformat": 4,
 "nbformat_minor": 2
}
