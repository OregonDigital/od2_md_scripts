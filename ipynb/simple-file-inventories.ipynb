{
 "cells": [
  {
   "cell_type": "markdown",
   "id": "c8d79ed7",
   "metadata": {},
   "source": [
    "1️⃣ **generate simple file inventories**  "
   ]
  },
  {
   "cell_type": "code",
   "execution_count": 84,
   "id": "1547b09b",
   "metadata": {},
   "outputs": [],
   "source": [
    "import yaml, os, json\n",
    "from datetime import datetime"
   ]
  },
  {
   "cell_type": "code",
   "execution_count": 85,
   "id": "937b8ca4",
   "metadata": {},
   "outputs": [],
   "source": [
    "config = \"gb-warner-nosatsu.yaml\" # <<< add config file name here\n",
    "with open(config) as yf:\n",
    "    data = yaml.safe_load(yf)"
   ]
  },
  {
   "cell_type": "code",
   "execution_count": 86,
   "id": "140ae422",
   "metadata": {},
   "outputs": [],
   "source": [
    "# check\n",
    "for dir in data['dirs']:\n",
    "    if data['top_level'] != None:\n",
    "        path = os.path.join(data[\"top_level\"], data['dirs'][dir])\n",
    "    else:\n",
    "        path = data['dirs'][dir]\n",
    "    # print(path)\n",
    "    # print(f\"{full}: {os.listdir(full)}\")"
   ]
  },
  {
   "cell_type": "code",
   "execution_count": 87,
   "id": "4d8c98a7",
   "metadata": {},
   "outputs": [],
   "source": [
    "for dir in data['dirs']:\n",
    "    file_exts = []\n",
    "    set = []\n",
    "    if data['top_level'] != None:\n",
    "        location = os.path.join(data[\"top_level\"], data['dirs'][dir])\n",
    "    else:\n",
    "        location = data['dirs'][dir]\n",
    "    report = {\n",
    "        \"date\": datetime.now().strftime(\"%Y%m%d\"),\n",
    "        \"path\": location,\n",
    "    }\n",
    "    for file in os.listdir(location):\n",
    "        if os.path.isfile(os.path.join(location, file)):\n",
    "            set.append(file)\n",
    "            if file.split('.')[-1] not in file_exts:\n",
    "                file_exts.append(file.split('.')[-1])\n",
    "    # report.update({\"file_exts\": file_exts}) # don't need this list in output, just need counts\n",
    "    for file_ext in file_exts:\n",
    "        counter = 0\n",
    "        for file in os.listdir(location):\n",
    "            if os.path.isfile(os.path.join(location, file)):\n",
    "                if file.split('.')[-1] == file_ext:\n",
    "                    counter += 1\n",
    "        report.update({file_ext: counter})\n",
    "    report.update({\"total_file_count\": len(set)})\n",
    "    report.update({\"set\": set})\n",
    "    # print(os.path.split(location)[1]) # check\n",
    "    # print(json.dumps(report, indent=4)) # check\n",
    "    with open(f\"{location}/inventory_{os.path.split(location)[1]}.yaml\", mode=\"w+\") as yf:\n",
    "        yaml.safe_dump(report)\n"
   ]
  },
  {
   "cell_type": "markdown",
   "id": "ca3c6407",
   "metadata": {},
   "source": [
    "2️⃣ **compare files against simple file inventories** "
   ]
  }
 ],
 "metadata": {
  "kernelspec": {
   "display_name": ".venv",
   "language": "python",
   "name": "python3"
  },
  "language_info": {
   "codemirror_mode": {
    "name": "ipython",
    "version": 3
   },
   "file_extension": ".py",
   "mimetype": "text/x-python",
   "name": "python",
   "nbconvert_exporter": "python",
   "pygments_lexer": "ipython3",
   "version": "3.12.10"
  }
 },
 "nbformat": 4,
 "nbformat_minor": 5
}
