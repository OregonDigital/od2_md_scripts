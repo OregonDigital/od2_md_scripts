{
 "cells": [
  {
   "cell_type": "markdown",
   "id": "c8d79ed7",
   "metadata": {},
   "source": [
    "1️⃣ **generate simple file inventories**  "
   ]
  },
  {
   "cell_type": "code",
   "execution_count": 4,
   "id": "1547b09b",
   "metadata": {},
   "outputs": [],
   "source": [
    "import yaml, os, json\n",
    "from datetime import datetime"
   ]
  },
  {
   "cell_type": "code",
   "execution_count": 5,
   "id": "937b8ca4",
   "metadata": {},
   "outputs": [],
   "source": [
    "# add config file name here\n",
    "# config = \"gb-warner-nosatsu.yaml\" \n",
    "config = \"nosatsu-v54-temp.yaml\"\n",
    "with open(config) as yf:\n",
    "    data = yaml.safe_load(yf)"
   ]
  },
  {
   "cell_type": "code",
   "execution_count": null,
   "id": "140ae422",
   "metadata": {},
   "outputs": [
    {
     "name": "stdout",
     "output_type": "stream",
     "text": [
      "/run/user/1000/gvfs/smb-share:server=libfiles.uoregon.edu,share=digitalprojects/Metadata/gb-warner-nosatsu/v54_duplicates_to_sort/1805174_NE1184_35_n67_v54\n",
      "/run/user/1000/gvfs/smb-share:server=libfiles.uoregon.edu,share=digitalprojects/Metadata/gb-warner-nosatsu/v54_duplicates_to_sort/1805174_NE1184_35_n67_v54: ['NE1184_35_N67_V54_005.tif', 'NE1184_35_N67_V54_002.tif', 'NE1184_35_N67_V54_003.tif', 'NE1184_35_N67_V54_004.tif', 'NE1184_35_N67_V54_009.tif', 'NE1184_35_N67_V54_014.tif', 'NE1184_35_N67_V54_019.tif', 'NE1184_35_N67_V54_022.tif', 'NE1184_35_N67_V54_023.tif', 'NE1184_35_N67_V54_024.tif', 'NE1184_35_N67_V54_025.tif', 'NE1184_35_N67_V54_048.tif', 'NE1184_35_N67_V54_057.tif', 'NE1184_35_N67_V54_066.tif', 'NE1184_35_N67_V54_071.tif', 'NE1184_35_N67_V54_076.tif', 'NE1184_35_N67_V54_081.tif', 'NE1184_35_N67_V54_086.tif', 'NE1184_35_N67_V54_091.tif', 'NE1184_35_N67_V54_096.tif', 'NE1184_35_N67_V54_101.tif', 'NE1184_35_N67_V54_106.tif', 'NE1184_35_N67_V54_111.tif', 'NE1184_35_N67_V54_116.tif', 'NE1184_35_N67_V54_121.tif', 'NE1184_35_N67_V54_126.tif', 'NE1184_35_N67_V54_131.tif', 'NE1184_35_N67_V54_135.tif', 'NE1184_35_N67_V54_026.tif', 'NE1184_35_N67_V54_006.tif', 'NE1184_35_N67_V54_007.tif', 'NE1184_35_N67_V54_008.tif', 'NE1184_35_N67_V54_010.tif', 'NE1184_35_N67_V54_011.tif', 'NE1184_35_N67_V54_012.tif', 'NE1184_35_N67_V54_013.tif', 'NE1184_35_N67_V54_015.tif', 'NE1184_35_N67_V54_016.tif', 'NE1184_35_N67_V54_017.tif', 'NE1184_35_N67_V54_018.tif', 'NE1184_35_N67_V54_020.tif', 'NE1184_35_N67_V54_021.tif', 'NE1184_35_N67_V54_044.tif', 'NE1184_35_N67_V54_027.tif', 'NE1184_35_N67_V54_028.tif', 'NE1184_35_N67_V54_029.tif', 'NE1184_35_N67_V54_030.tif', 'NE1184_35_N67_V54_031.tif', 'NE1184_35_N67_V54_032.tif', 'NE1184_35_N67_V54_033.tif', 'NE1184_35_N67_V54_034.tif', 'NE1184_35_N67_V54_035.tif', 'NE1184_35_N67_V54_036.tif', 'NE1184_35_N67_V54_037.tif', 'NE1184_35_N67_V54_038.tif', 'NE1184_35_N67_V54_039.tif', 'NE1184_35_N67_V54_040.tif', 'NE1184_35_N67_V54_041.tif', 'NE1184_35_N67_V54_042.tif', 'NE1184_35_N67_V54_043.tif', 'NE1184_35_N67_V54_045.tif', 'NE1184_35_N67_V54_046.tif', 'NE1184_35_N67_V54_047.tif', 'NE1184_35_N67_V54_049.tif', 'NE1184_35_N67_V54_050.tif', 'NE1184_35_N67_V54_051.tif', 'NE1184_35_N67_V54_052.tif', 'NE1184_35_N67_V54_053.tif', 'NE1184_35_N67_V54_054.tif', 'NE1184_35_N67_V54_055.tif', 'NE1184_35_N67_V54_056.tif', 'NE1184_35_N67_V54_058.tif', 'NE1184_35_N67_V54_059.tif', 'NE1184_35_N67_V54_060.tif', 'NE1184_35_N67_V54_061.tif', 'NE1184_35_N67_V54_062.tif', 'NE1184_35_N67_V54_063.tif', 'NE1184_35_N67_V54_064.tif', 'NE1184_35_N67_V54_065.tif', 'NE1184_35_N67_V54_067.tif', 'NE1184_35_N67_V54_068.tif', 'NE1184_35_N67_V54_069.tif', 'NE1184_35_N67_V54_070.tif', 'NE1184_35_N67_V54_072.tif', 'NE1184_35_N67_V54_073.tif', 'NE1184_35_N67_V54_074.tif', 'NE1184_35_N67_V54_075.tif', 'NE1184_35_N67_V54_077.tif', 'NE1184_35_N67_V54_078.tif', 'NE1184_35_N67_V54_079.tif', 'NE1184_35_N67_V54_080.tif', 'NE1184_35_N67_V54_082.tif', 'NE1184_35_N67_V54_083.tif', 'NE1184_35_N67_V54_084.tif', 'NE1184_35_N67_V54_085.tif', 'NE1184_35_N67_V54_087.tif', 'NE1184_35_N67_V54_088.tif', 'NE1184_35_N67_V54_089.tif', 'NE1184_35_N67_V54_090.tif', 'NE1184_35_N67_V54_092.tif', 'NE1184_35_N67_V54_093.tif', 'NE1184_35_N67_V54_094.tif', 'NE1184_35_N67_V54_095.tif', 'NE1184_35_N67_V54_097.tif', 'NE1184_35_N67_V54_098.tif', 'NE1184_35_N67_V54_099.tif', 'NE1184_35_N67_V54_100.tif', 'NE1184_35_N67_V54_102.tif', 'NE1184_35_N67_V54_103.tif', 'NE1184_35_N67_V54_104.tif', 'NE1184_35_N67_V54_105.tif', 'NE1184_35_N67_V54_107.tif', 'NE1184_35_N67_V54_108.tif', 'NE1184_35_N67_V54_109.tif', 'NE1184_35_N67_V54_110.tif', 'NE1184_35_N67_V54_112.tif', 'NE1184_35_N67_V54_113.tif', 'NE1184_35_N67_V54_114.tif', 'NE1184_35_N67_V54_115.tif', 'NE1184_35_N67_V54_117.tif', 'NE1184_35_N67_V54_118.tif', 'NE1184_35_N67_V54_119.tif', 'NE1184_35_N67_V54_120.tif', 'NE1184_35_N67_V54_122.tif', 'NE1184_35_N67_V54_123.tif', 'NE1184_35_N67_V54_124.tif', 'NE1184_35_N67_V54_125.tif', 'NE1184_35_N67_V54_127.tif', 'NE1184_35_N67_V54_128.tif', 'NE1184_35_N67_V54_129.tif', 'NE1184_35_N67_V54_130.tif', 'NE1184_35_N67_V54_132.tif', 'NE1184_35_N67_V54_133.tif', 'NE1184_35_N67_V54_134.tif', 'NE1184_35_N67_V54_136.tif', 'NE1184_35_N67_V54_137.tif', 'NE1184_35_N67_V54_001.tif', 'NE1184_35_n67_v54_jpgpdf', '1805174_NE1184_35_n67_v54_metadata.xlsx']\n",
      "/run/user/1000/gvfs/smb-share:server=libfiles.uoregon.edu,share=digitalprojects/Metadata/gb-warner-nosatsu/v54_duplicates_to_sort/19588069_NE1184_35_N67_V54\n",
      "/run/user/1000/gvfs/smb-share:server=libfiles.uoregon.edu,share=digitalprojects/Metadata/gb-warner-nosatsu/v54_duplicates_to_sort/19588069_NE1184_35_N67_V54: ['NE1184_35_N67_V54_001.tif', 'NE1184_35_N67_V54_002.tif', 'NE1184_35_N67_V54_003.tif', 'NE1184_35_N67_V54_004.tif', 'NE1184_35_N67_V54_005.tif', 'NE1184_35_N67_V54_006.tif', 'NE1184_35_N67_V54_007.tif', 'NE1184_35_N67_V54_008.tif', 'NE1184_35_N67_V54_009.tif', 'NE1184_35_N67_V54_010.tif', 'NE1184_35_N67_V54_011.tif', 'NE1184_35_N67_V54_012.tif', 'NE1184_35_N67_V54_013.tif', 'NE1184_35_N67_V54_014.tif', 'NE1184_35_N67_V54_015.tif', 'NE1184_35_N67_V54_016.tif', 'NE1184_35_N67_V54_017.tif', 'NE1184_35_N67_V54_018.tif', 'NE1184_35_N67_V54_019.tif', 'NE1184_35_N67_V54_020.tif', 'NE1184_35_N67_V54_021.tif', 'NE1184_35_N67_V54_022.tif', 'NE1184_35_N67_V54_023.tif', 'NE1184_35_N67_V54_024.tif', 'NE1184_35_N67_V54_025.tif', 'NE1184_35_N67_V54_026.tif', 'NE1184_35_N67_V54_027.tif', 'NE1184_35_N67_V54_028.tif', 'NE1184_35_N67_V54_003a.tif', 'NE1184_35_N67_V54_003b.tif', 'NE1184_35_N67_V54_003c.tif', 'NE1184_35_N67_V54_003d.tif', 'NE1184_35_N67_V54_004a.tif', 'NE1184_35_N67_V54_004b.tif', 'NE1184_35_N67_V54_004c.tif', 'NE1184_35_N67_V54_004d.tif', 'NE1184_35_N67_V54_005a.tif', 'NE1184_35_N67_V54_005b.tif', 'NE1184_35_N67_V54_005c.tif', 'NE1184_35_N67_V54_005d.tif', 'NE1184_35_N67_V54_006a.tif', 'NE1184_35_N67_V54_006c.tif', 'NE1184_35_N67_V54_006b.tif', 'NE1184_35_N67_V54_006d.tif', 'NE1184_35_N67_V54_007a.tif', 'NE1184_35_N67_V54_007b.tif', 'NE1184_35_N67_V54_007c.tif', 'NE1184_35_N67_V54_007d.tif', 'NE1184_35_N67_V54_008a.tif', 'NE1184_35_N67_V54_008b.tif', 'NE1184_35_N67_V54_008c.tif', 'NE1184_35_N67_V54_008d.tif', 'NE1184_35_N67_V54_018c.tif', 'NE1184_35_N67_V54_009c.tif', 'NE1184_35_N67_V54_009d.tif', 'NE1184_35_N67_V54_010a.tif', 'NE1184_35_N67_V54_010c.tif', 'NE1184_35_N67_V54_010b.tif', 'NE1184_35_N67_V54_010d.tif', 'NE1184_35_N67_V54_011a.tif', 'NE1184_35_N67_V54_011c.tif', 'NE1184_35_N67_V54_011b.tif', 'NE1184_35_N67_V54_011d.tif', 'NE1184_35_N67_V54_012a.tif', 'NE1184_35_N67_V54_013a.tif', 'NE1184_35_N67_V54_012b.tif', 'NE1184_35_N67_V54_012c.tif', 'NE1184_35_N67_V54_012d.tif', 'NE1184_35_N67_V54_014a.tif', 'NE1184_35_N67_V54_013b.tif', 'NE1184_35_N67_V54_013c.tif', 'NE1184_35_N67_V54_013d.tif', 'NE1184_35_N67_V54_014b.tif', 'NE1184_35_N67_V54_014c.tif', 'NE1184_35_N67_V54_014d.tif', 'NE1184_35_N67_V54_015a.tif', 'NE1184_35_N67_V54_015b.tif', 'NE1184_35_N67_V54_015c.tif', 'NE1184_35_N67_V54_015d.tif', 'NE1184_35_N67_V54_016a.tif', 'NE1184_35_N67_V54_016c.tif', 'NE1184_35_N67_V54_016b.tif', 'NE1184_35_N67_V54_016d.tif', 'NE1184_35_N67_V54_017a.tif', 'NE1184_35_N67_V54_017b.tif', 'NE1184_35_N67_V54_018a.tif', 'NE1184_35_N67_V54_017c.tif', 'NE1184_35_N67_V54_017d.tif', 'NE1184_35_N67_V54_018b.tif', 'NE1184_35_N67_V54_018d.tif', 'NE1184_35_N67_V54_019a.tif', 'NE1184_35_N67_V54_019b.tif', 'NE1184_35_N67_V54_019c.tif', 'NE1184_35_N67_V54_019d.tif', 'NE1184_35_N67_V54_020a.tif', 'NE1184_35_N67_V54_020b.tif', 'NE1184_35_N67_V54_020c.tif', 'NE1184_35_N67_V54_020d.tif', 'NE1184_35_N67_V54_021a.tif', 'NE1184_35_N67_V54_021b.tif', 'NE1184_35_N67_V54_021c.tif', 'NE1184_35_N67_V54_021d.tif', 'NE1184_35_N67_V54_022a.tif', 'NE1184_35_N67_V54_022b.tif', 'NE1184_35_N67_V54_022c.tif', 'NE1184_35_N67_V54_022d.tif', 'NE1184_35_N67_V54_023a.tif', 'NE1184_35_N67_V54_023b.tif', 'NE1184_35_N67_V54_023c.tif', 'NE1184_35_N67_V54_023d.tif', 'NE1184_35_N67_V54_024a.tif', 'NE1184_35_N67_V54_024b.tif', 'NE1184_35_N67_V54_024c.tif', 'NE1184_35_N67_V54_024d.tif', 'NE1184_35_N67_V54_025a.tif', 'NE1184_35_N67_V54_025b.tif', 'NE1184_35_N67_V54_025c.tif', 'NE1184_35_N67_V54_025d.tif', 'NE1184_35_N67_V54_026a.tif', 'NE1184_35_N67_V54_026b.tif', 'NE1184_35_N67_V54_026c.tif', 'NE1184_35_N67_V54_027a.tif', 'NE1184_35_N67_V54_027b.tif', 'NE1184_35_N67_V54_027c.tif', 'NE1184_35_N67_V54_jpgpdf', 'NE1184_35_N67_V54_009a.tif', 'NE1184_35_N67_V54_009b.tif']\n"
     ]
    }
   ],
   "source": [
    "# check\n",
    "for dir in data['dirs']:\n",
    "    if data['top_level'] != None:\n",
    "        location = os.path.join(data[\"top_level\"], data['dirs'][dir])\n",
    "    else:\n",
    "        location = data['dirs'][dir]\n",
    "    print(f\"{location}: {os.listdir(location)}\")\n",
    "# ^^^ check"
   ]
  },
  {
   "cell_type": "code",
   "execution_count": 7,
   "id": "4d8c98a7",
   "metadata": {},
   "outputs": [],
   "source": [
    "for dir in data['dirs']:\n",
    "    file_exts = []\n",
    "    set = []\n",
    "    if data['top_level'] != None:\n",
    "        location = os.path.join(data[\"top_level\"], data['dirs'][dir])\n",
    "    else:\n",
    "        location = data['dirs'][dir]\n",
    "    report = {\n",
    "        \"date\": datetime.now().strftime(\"%Y%m%d\"),\n",
    "        \"path\": location,\n",
    "    }\n",
    "    for file in os.listdir(location):\n",
    "        if os.path.isfile(os.path.join(location, file)):\n",
    "            set.append(file)\n",
    "            if file.split('.')[-1] not in file_exts:\n",
    "                file_exts.append(file.split('.')[-1])\n",
    "    # report.update({\"file_exts\": file_exts}) # don't need this list in output, just need counts\n",
    "    for file_ext in file_exts:\n",
    "        counter = 0\n",
    "        for file in os.listdir(location):\n",
    "            if os.path.isfile(os.path.join(location, file)):\n",
    "                if file.split('.')[-1] == file_ext:\n",
    "                    counter += 1\n",
    "        report.update({file_ext: counter})\n",
    "    report.update({\"total_file_count\": len(set)})\n",
    "    report.update({\"set\": set})\n",
    "    # print(os.path.split(location)[1]) # check\n",
    "    # print(json.dumps(report, indent=4)) # check\n",
    "    filename = os.path.split(location)[1]\n",
    "    with open(f\"{location}/inventory_{filename}.yaml\", mode=\"w\") as yf:\n",
    "        yaml.safe_dump(report, yf)\n"
   ]
  },
  {
   "cell_type": "markdown",
   "id": "ca3c6407",
   "metadata": {},
   "source": [
    "2️⃣ **compare files against simple file inventories** "
   ]
  },
  {
   "cell_type": "code",
   "execution_count": 8,
   "id": "efb3c64a",
   "metadata": {},
   "outputs": [],
   "source": [
    "# to do"
   ]
  }
 ],
 "metadata": {
  "kernelspec": {
   "display_name": ".venv",
   "language": "python",
   "name": "python3"
  },
  "language_info": {
   "codemirror_mode": {
    "name": "ipython",
    "version": 3
   },
   "file_extension": ".py",
   "mimetype": "text/x-python",
   "name": "python",
   "nbconvert_exporter": "python",
   "pygments_lexer": "ipython3",
   "version": "3.12.3"
  }
 },
 "nbformat": 4,
 "nbformat_minor": 5
}
