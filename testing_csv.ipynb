{
 "cells": [
  {
   "cell_type": "code",
   "execution_count": 6,
   "metadata": {},
   "outputs": [],
   "source": [
    "from Od2Package import Package\n",
    "\n",
    "processing = Package(\"uo-athletics\")\n",
    "# I'm not sure if below is the right way to get the info for use by class methods...\n",
    "metadata = processing.get_files_md()[0]\n",
    "assets = processing.get_files_md()[1]"
   ]
  },
  {
   "cell_type": "code",
   "execution_count": 7,
   "metadata": {},
   "outputs": [
    {
     "name": "stdout",
     "output_type": "stream",
     "text": [
      "HEADERS\n",
      "=====\n",
      "\n",
      "dmrec\n",
      "file\n",
      "identifier\n",
      "title\n",
      "description\n",
      "local_collection_name\n",
      "local_collection_id\n",
      "photographer\n",
      "date\n",
      "subject\n",
      "location\n",
      "resource_type\n",
      "format\n",
      "rights_statement\n",
      "license\n",
      "rights_holder\n",
      "parents\n",
      "institution\n",
      "model\n",
      "has_finding_aid\n",
      "visibility\n",
      "repository\n",
      "full_size_download_allowed\n"
     ]
    }
   ],
   "source": [
    "headers = processing.get_headers(metadata)\n",
    "print(f\"HEADERS\\n{'='*5}\\n\")\n",
    "for header in headers:\n",
    "    print(header)"
   ]
  },
  {
   "cell_type": "markdown",
   "metadata": {},
   "source": [
    "**comparing lists**  \n",
    "- GG > [Difference between two lists in Python](https://www.geeksforgeeks.org/python-difference-two-lists/)\n",
    "- SO > [How can I compare two lists in python and return matches](https://stackoverflow.com/questions/1388818/how-can-i-compare-two-lists-in-python-and-return-matches) (see \"this question already has answers here\")\n",
    "- docs.python.org > [Set Types -- set, frozenset](https://docs.python.org/3/library/stdtypes.html#set-types-set-frozenset)"
   ]
  },
  {
   "cell_type": "code",
   "execution_count": 8,
   "metadata": {},
   "outputs": [
    {
     "name": "stdout",
     "output_type": "stream",
     "text": [
      "difference in list lengths\n",
      "-2\n"
     ]
    }
   ],
   "source": [
    "# test set\n",
    "# see Od2Package > Package > check_assets_filenames()\n",
    "one = [1, 2]\n",
    "two = [3, 4, 5, 6]\n",
    "diff = len(one) - len(two)\n",
    "if diff != 0:\n",
    "    print(\"difference in list lengths\")\n",
    "    print(diff)"
   ]
  },
  {
   "cell_type": "code",
   "execution_count": 9,
   "metadata": {},
   "outputs": [
    {
     "name": "stdout",
     "output_type": "stream",
     "text": [
      "checking metadata filenames against assets dir/ filenames:\n",
      "# of filenames = # of asset files\n",
      "filenames in files/ and metadata match\n",
      "filenames in metadata and files/ match\n",
      "=====\n"
     ]
    }
   ],
   "source": [
    "processing.check_assets_filenames(metadata, assets)"
   ]
  },
  {
   "cell_type": "code",
   "execution_count": 14,
   "metadata": {},
   "outputs": [
    {
     "name": "stdout",
     "output_type": "stream",
     "text": [
      "dmrec\n",
      "=====\n",
      "\n",
      "\n",
      "\n",
      "\n",
      "\n",
      "\n",
      "\n",
      "\n",
      "\n",
      "\n",
      "\n",
      "\n",
      "\n",
      "\n",
      "\n",
      "\n",
      "\n",
      "\n",
      "\n",
      "\n",
      "\n",
      "\n",
      "\n",
      "\n",
      "\n",
      "\n",
      "\n",
      "\n",
      "\n",
      "\n",
      "\n",
      "\n",
      "\n",
      "\n",
      "\n",
      "\n",
      "\n",
      "\n",
      "file\n",
      "=====\n",
      "\n",
      "identifier\n",
      "=====\n",
      "\n",
      "title\n",
      "=====\n",
      "\n",
      "description\n",
      "=====\n",
      "\n",
      "local_collection_name\n",
      "=====\n",
      "\n",
      "local_collection_id\n",
      "=====\n",
      "\n",
      "photographer\n",
      "=====\n",
      "\n",
      "date\n",
      "=====\n",
      "\n",
      "subject\n",
      "=====\n",
      "\n",
      "location\n",
      "=====\n",
      "\n",
      "resource_type\n",
      "=====\n",
      "\n",
      "format\n",
      "=====\n",
      "\n",
      "rights_statement\n",
      "=====\n",
      "\n",
      "license\n",
      "=====\n",
      "\n",
      "rights_holder\n",
      "=====\n",
      "\n",
      "parents\n",
      "=====\n",
      "\n",
      "institution\n",
      "=====\n",
      "\n",
      "model\n",
      "=====\n",
      "\n",
      "has_finding_aid\n",
      "=====\n",
      "\n",
      "visibility\n",
      "=====\n",
      "\n",
      "repository\n",
      "=====\n",
      "\n",
      "full_size_download_allowed\n",
      "=====\n",
      "\n"
     ]
    }
   ],
   "source": [
    "# validate column-by-column\n",
    "# check coll_config for column header first,\n",
    "# if no use column info from default_config\n",
    "\n",
    "import csv\n",
    "with open(metadata, \"r\", encoding=\"utf-8-sig\") as csvfile:\n",
    "    reader = csv.DictReader(csvfile)\n",
    "    for column in processing.get_headers(metadata):\n",
    "        print(f\"{column}\\n{'='*5}\\n\")\n",
    "        for row in reader:\n",
    "            print(row[column])\n"
   ]
  },
  {
   "cell_type": "code",
   "execution_count": null,
   "metadata": {},
   "outputs": [],
   "source": []
  }
 ],
 "metadata": {
  "kernelspec": {
   "display_name": ".venv",
   "language": "python",
   "name": "python3"
  },
  "language_info": {
   "codemirror_mode": {
    "name": "ipython",
    "version": 3
   },
   "file_extension": ".py",
   "mimetype": "text/x-python",
   "name": "python",
   "nbconvert_exporter": "python",
   "pygments_lexer": "ipython3",
   "version": "3.12.8"
  }
 },
 "nbformat": 4,
 "nbformat_minor": 2
}
