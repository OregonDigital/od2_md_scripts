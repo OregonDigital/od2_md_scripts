{
 "cells": [
  {
   "cell_type": "code",
   "execution_count": 1,
   "metadata": {},
   "outputs": [],
   "source": [
    "from Od2Package import Package\n",
    "processing = Package(\"uo-athletics\")\n",
    "# I'm not sure if below is the right way to get the info for use by class methods...\n",
    "metadata = processing.files_config()[0]\n",
    "assets = processing.files_config()[1]"
   ]
  },
  {
   "cell_type": "code",
   "execution_count": null,
   "metadata": {},
   "outputs": [],
   "source": [
    "headers = processing.get_headers(metadata)\n",
    "print(f\"HEADERS\\n{'='*5}\\n\")\n",
    "for header in headers:\n",
    "    print(header)"
   ]
  },
  {
   "cell_type": "markdown",
   "metadata": {},
   "source": [
    "**comparing lists**  \n",
    "- GG > [Difference between two lists in Python](https://www.geeksforgeeks.org/python-difference-two-lists/)\n",
    "- SO > [How can I compare two lists in python and return matches](https://stackoverflow.com/questions/1388818/how-can-i-compare-two-lists-in-python-and-return-matches) (see \"this question already has answers here\")\n",
    "- docs.python.org > [Set Types -- set, frozenset](https://docs.python.org/3/library/stdtypes.html#set-types-set-frozenset)"
   ]
  },
  {
   "cell_type": "code",
   "execution_count": null,
   "metadata": {},
   "outputs": [],
   "source": [
    "# test set\n",
    "# see Od2Package > Package > check_assets_filenames()\n",
    "one = [1, 2]\n",
    "two = [3, 4, 5, 6]\n",
    "diff = len(one) - len(two)\n",
    "if diff != 0:\n",
    "    print(\"difference in list lengths\")\n",
    "    print(diff)"
   ]
  },
  {
   "cell_type": "code",
   "execution_count": null,
   "metadata": {},
   "outputs": [],
   "source": [
    "processing.check_assets_filenames(metadata, assets)"
   ]
  },
  {
   "cell_type": "code",
   "execution_count": 5,
   "metadata": {},
   "outputs": [],
   "source": [
    "# validate column-by-column\n",
    "# check coll_config for column header first,\n",
    "# if no use column info from default_config\n",
    "    # either case header[0] options are:\n",
    "        # function - call function names in header[1]\n",
    "        # regex - evaluate values against regex in header [1]\n",
    "        # string - evaluate values to match exactly string in header[1]"
   ]
  },
  {
   "cell_type": "code",
   "execution_count": 2,
   "metadata": {},
   "outputs": [
    {
     "name": "stdout",
     "output_type": "stream",
     "text": [
      "regex pattern to match: ^PH395_UP\\S*$\n",
      "Malformed values if any:\n",
      "PHP395_UP_SOC_20240815_04\n",
      "PHP395_UP_SOC_20240815_05\n",
      "PHP395_UP_SOC_20240815_06\n",
      "PHP395_UP_SOC_20240815_07\n",
      "PHP395_UP_SOC_20240815_08\n",
      "PHP395_UP_SOC_20240815_09\n",
      "PHP395_UP_SOC_20240815_10\n",
      "PHP395_UP_SOC_20240815_11\n",
      "PHP395_UP_SOC_20240815_12\n",
      "PHP395_UP_SOC_20240815_13\n",
      "PHP395_UP_SOC_20240815_14\n",
      "PHP395_UP_SOC_20240815_15\n",
      "PHP395_UP_SOC_20240815_16\n",
      "PHP395_UP_SOC_20240815_17\n",
      "PHP395_UP_SOC_20240815_18\n",
      "PHP395_UP_SOC_20240815_19\n",
      "PHP395_UP_SOC_20240815_20\n",
      "PHP395_UP_SOC_20240815_21\n",
      "PHP395_UP_SOC_20240815_22\n",
      "PHP395_UP_SOC_20240815_23\n",
      "PHP395_UP_SOC_20240815_24\n",
      "PHP395_UP_SOC_20240815_25\n",
      "PHP395_UP_SOC_20240815_26\n",
      "PHP395_UP_SOC_20240815_27\n",
      "PHP395_UP_SOC_20240815_28\n",
      "PHP395_UP_SOC_20240815_29\n",
      "PHP395_UP_SOC_20240815_30\n",
      "PHP395_UP_SOC_20240815_31\n",
      "PHP395_UP_SOC_20240815_32\n",
      "PHP395_UP_SOC_20240815_33\n",
      "PHP395_UP_SOC_20240815_34\n",
      "PHP395_UP_SOC_20240815_35\n",
      "PHP395_UP_SOC_20240815_36\n",
      "PHP395_UP_SOC_20240815_37\n"
     ]
    }
   ],
   "source": [
    "# since to do is still to do\n",
    "# use check_identifier in a hard-coded way\n",
    "for item in processing.check_identifier(metadata, processing.coll_config()['uo-athletics']['identifier'][1]):\n",
    "    print(item)"
   ]
  },
  {
   "cell_type": "code",
   "execution_count": null,
   "metadata": {},
   "outputs": [],
   "source": [
    "# since to do is still to do\n",
    "# (to do...) processing.id_match_file(metadata)"
   ]
  },
  {
   "cell_type": "code",
   "execution_count": null,
   "metadata": {},
   "outputs": [],
   "source": []
  }
 ],
 "metadata": {
  "kernelspec": {
   "display_name": ".venv",
   "language": "python",
   "name": "python3"
  },
  "language_info": {
   "codemirror_mode": {
    "name": "ipython",
    "version": 3
   },
   "file_extension": ".py",
   "mimetype": "text/x-python",
   "name": "python",
   "nbconvert_exporter": "python",
   "pygments_lexer": "ipython3",
   "version": "3.12.3"
  }
 },
 "nbformat": 4,
 "nbformat_minor": 2
}
