{
 "cells": [
  {
   "cell_type": "markdown",
   "metadata": {},
   "source": [
    "# TO-DOS, IDEAS\n",
    "\n",
    "## to dos\n",
    "- eliminate spaces from values in columns taking IRIs\n",
    "- replace old file with new\n",
    "    - summarize changes when replacing old file with new?\n",
    "- ...\n",
    "\n",
    "## ideas \n",
    "- confirm match from file column in csv for file in files/ (!)\n",
    "- validate column headers - this could involve adding list of headers to colls data\n",
    "- force match folder + file names - rename folders and files\n",
    "    - use top-level folder for match?\n",
    "- for rows with no filename, delete values\n",
    "- check encoding or otherwise avoid blorked-up item titles\n",
    "- "
   ]
  }
 ],
 "metadata": {
  "language_info": {
   "name": "python"
  }
 },
 "nbformat": 4,
 "nbformat_minor": 2
}
