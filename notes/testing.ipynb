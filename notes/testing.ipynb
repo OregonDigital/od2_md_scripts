{
 "cells": [
  {
   "cell_type": "code",
   "execution_count": 1,
   "metadata": {},
   "outputs": [],
   "source": [
    "# !pip install pyyaml # done"
   ]
  },
  {
   "cell_type": "code",
   "execution_count": 2,
   "metadata": {},
   "outputs": [],
   "source": [
    "import csv, os, json, yaml"
   ]
  },
  {
   "cell_type": "code",
   "execution_count": 102,
   "metadata": {},
   "outputs": [],
   "source": [
    "# TEST\n",
    "# some config data\n",
    "# config = {\n",
    "#     \"metadata\": \"C:/Users/briesenb/OneDrive - University Of Oregon/bmr_metadata_general_asstd/OD2_working_files/uo_athletics/20240608_NCAA_4_TF.csv\",\n",
    "#     \"files\": \"L:/DigitalProjects/Metadata/uo_athletics/Work/processing/20240608_NCAA_4_TF/files\"\n",
    "# }\n",
    "# # confirm structure in YAML\n",
    "# with open(\"config.yaml\", \"w+\") as yamlfile:\n",
    "#     yaml.dump(config, yamlfile, encoding='utf-8')"
   ]
  },
  {
   "cell_type": "code",
   "execution_count": 103,
   "metadata": {},
   "outputs": [
    {
     "name": "stdout",
     "output_type": "stream",
     "text": [
      "files:\n",
      "\t'L:/DigitalProjects/Metadata/uo_athletics/Work/processing/20240815_Seattle_U_SOC/files'\n",
      "metadata:\n",
      "\t'C:/Users/briesenb/OneDrive - University Of Oregon/_metadata/OD2_working_files/uo_athletics/20240815_Seattle_U_SOC.csv'\n"
     ]
    }
   ],
   "source": [
    "# OK, now I can make a simple config file\n",
    "# load a config file (I'll use the one I already have...)\n",
    "# to do - allow for pasting '\\' and convert to '\\' -- will this need an r-string?\n",
    "with open(\"config.yaml\", \"r\") as yamlfile:\n",
    "    config = yaml.safe_load(yamlfile)\n",
    "# test\n",
    "for k, v in config.items():\n",
    "    print(f\"{k}:\\n\\t'{v}'\")"
   ]
  },
  {
   "cell_type": "code",
   "execution_count": 98,
   "metadata": {},
   "outputs": [
    {
     "name": "stdout",
     "output_type": "stream",
     "text": [
      "37 files in files/ directory\n",
      "['PHP395_UP_SOC_20240815_01.tif', 'PHP395_UP_SOC_20240815_02.tif', 'PHP395_UP_SOC_20240815_03.tif', 'PHP395_UP_SOC_20240815_04.tif', 'PHP395_UP_SOC_20240815_05.tif', 'PHP395_UP_SOC_20240815_06.tif', 'PHP395_UP_SOC_20240815_07.tif', 'PHP395_UP_SOC_20240815_08.tif', 'PHP395_UP_SOC_20240815_09.tif', 'PHP395_UP_SOC_20240815_10.tif', 'PHP395_UP_SOC_20240815_11.tif', 'PHP395_UP_SOC_20240815_12.tif', 'PHP395_UP_SOC_20240815_13.tif', 'PHP395_UP_SOC_20240815_14.tif', 'PHP395_UP_SOC_20240815_15.tif', 'PHP395_UP_SOC_20240815_16.tif', 'PHP395_UP_SOC_20240815_17.tif', 'PHP395_UP_SOC_20240815_18.tif', 'PHP395_UP_SOC_20240815_19.tif', 'PHP395_UP_SOC_20240815_20.tif', 'PHP395_UP_SOC_20240815_21.tif', 'PHP395_UP_SOC_20240815_22.tif', 'PHP395_UP_SOC_20240815_23.tif', 'PHP395_UP_SOC_20240815_24.tif', 'PHP395_UP_SOC_20240815_25.tif', 'PHP395_UP_SOC_20240815_26.tif', 'PHP395_UP_SOC_20240815_27.tif', 'PHP395_UP_SOC_20240815_28.tif', 'PHP395_UP_SOC_20240815_29.tif', 'PHP395_UP_SOC_20240815_30.tif', 'PHP395_UP_SOC_20240815_31.tif', 'PHP395_UP_SOC_20240815_32.tif', 'PHP395_UP_SOC_20240815_33.tif', 'PHP395_UP_SOC_20240815_34.tif', 'PHP395_UP_SOC_20240815_35.tif', 'PHP395_UP_SOC_20240815_36.tif', 'PHP395_UP_SOC_20240815_37.tif']\n"
     ]
    }
   ],
   "source": [
    "# see about my files\n",
    "print(f\"{len(os.listdir(config['files']))} files in files/ directory\")\n",
    "print(os.listdir(config['files']))"
   ]
  },
  {
   "cell_type": "code",
   "execution_count": 99,
   "metadata": {},
   "outputs": [
    {
     "name": "stdout",
     "output_type": "stream",
     "text": [
      "HEADERS\n",
      "=====\n",
      "dmrec\n",
      "file\n",
      "identifier\n",
      "title\n",
      "description\n",
      "local_collection_name\n",
      "local_collection_id\n",
      "photographer\n",
      "date\n",
      "subject\n",
      "location\n",
      "resource_type\n",
      "format\n",
      "rights_statement\n",
      "license\n",
      "rights_holder\n",
      "parents\n",
      "institution\n",
      "model\n",
      "has_finding_aid\n",
      "visibility\n",
      "repository\n",
      "full_size_download_allowed\n"
     ]
    }
   ],
   "source": [
    "# review headers\n",
    "# possible to-do - validate against list for collection\n",
    "# see testing_coll_config\n",
    "with open(config['metadata'], \"r\", encoding=\"utf-8-sig\") as csvfile:\n",
    "    reader = csv.DictReader(csvfile)\n",
    "    headers = reader.fieldnames\n",
    "    print(f\"HEADERS\\n{\"=\"*5}\")\n",
    "    for item in headers:\n",
    "        print(item)"
   ]
  },
  {
   "cell_type": "markdown",
   "metadata": {},
   "source": [
    "**comparing lists**  \n",
    "- GG > [Difference between two lists in Python](https://www.geeksforgeeks.org/python-difference-two-lists/)\n",
    "- SO > [How can I compare two lists in python and return matches](https://stackoverflow.com/questions/1388818/how-can-i-compare-two-lists-in-python-and-return-matches) (see \"this question already has answers here\")\n",
    "- docs.python.org > [Set Types -- set, frozenset](https://docs.python.org/3/library/stdtypes.html#set-types-set-frozenset)"
   ]
  },
  {
   "cell_type": "code",
   "execution_count": 97,
   "metadata": {},
   "outputs": [
    {
     "name": "stdout",
     "output_type": "stream",
     "text": [
      "filenames in files/ and metadata match\n",
      "filenames in metadata and files/ match\n"
     ]
    }
   ],
   "source": [
    "# compare files with file values\n",
    "# ...someone must've figured out a good way to do this already (see above)\n",
    "# but what do I want to provide here? a two-column view? Something else??\n",
    "\n",
    "# get files\n",
    "files = os.listdir(config['files'])\n",
    "# test\n",
    "# print(len(files))\n",
    "\n",
    "# get filenames from csv\n",
    "filenames = []\n",
    "with open(config['metadata'], \"r\", encoding=\"utf-8-sig\") as csvfile:\n",
    "    reader = csv.DictReader(csvfile)\n",
    "    counter = 0\n",
    "    for row in reader:\n",
    "        filenames.append(row['file'])\n",
    "# test\n",
    "# print(len(filenames))\n",
    "\n",
    "# report\n",
    "# this is still wonky and duplicative?\n",
    "diff = list(set(files) - set(filenames))\n",
    "if len(diff) > 0:\n",
    "    print(f\"{len(diff)} filenames from files/ not in metadata:\")\n",
    "    print(diff)\n",
    "else:\n",
    "    print(\"filenames in files/ and metadata match\")\n",
    "diff = list(set(filenames) - set(files))\n",
    "if len(diff) > 0:\n",
    "    print(f\"{len(diff)} filenames from metadata not in files/:\")\n",
    "    print(diff)\n",
    "else:\n",
    "    print(\"filenames in metadata and files/ match\")\n"
   ]
  },
  {
   "cell_type": "code",
   "execution_count": 1,
   "metadata": {},
   "outputs": [
    {
     "name": "stdout",
     "output_type": "stream",
     "text": [
      "difference in list lengths\n",
      "-2\n"
     ]
    }
   ],
   "source": [
    "# test set\n",
    "one = [1, 2]\n",
    "two = [3, 4, 5, 6]\n",
    "diff = len(one) - len(two)\n",
    "if diff != 0:\n",
    "    print(\"difference in list lengths\")\n",
    "    print(diff)"
   ]
  }
 ],
 "metadata": {
  "kernelspec": {
   "display_name": ".venv",
   "language": "python",
   "name": "python3"
  },
  "language_info": {
   "codemirror_mode": {
    "name": "ipython",
    "version": 3
   },
   "file_extension": ".py",
   "mimetype": "text/x-python",
   "name": "python",
   "nbconvert_exporter": "python",
   "pygments_lexer": "ipython3",
   "version": "3.12.8"
  }
 },
 "nbformat": 4,
 "nbformat_minor": 2
}
