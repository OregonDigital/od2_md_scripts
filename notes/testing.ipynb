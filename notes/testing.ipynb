{
 "cells": [
  {
   "cell_type": "code",
   "execution_count": 36,
   "metadata": {},
   "outputs": [],
   "source": [
    "# !pip install pyyaml # done"
   ]
  },
  {
   "cell_type": "code",
   "execution_count": 37,
   "metadata": {},
   "outputs": [],
   "source": [
    "import csv, os, json, yaml"
   ]
  },
  {
   "cell_type": "code",
   "execution_count": 38,
   "metadata": {},
   "outputs": [],
   "source": [
    "# some config data\n",
    "config = {\n",
    "    \"metadata\": \"C:/Users/briesenb/OneDrive - University Of Oregon/bmr_metadata_general_asstd/OD2_working_files/uo_athletics/20240608_NCAA_4_TF.csv\",\n",
    "    \"files\": \"L:/DigitalProjects/Metadata/uo_athletics/Work/processing/20240608_NCAA_4_TF/files\"\n",
    "}\n",
    "# confirm structure in YAML\n",
    "with open(\"config.yaml\", \"w+\") as yamlfile:\n",
    "    yaml.dump(config, yamlfile, encoding='utf-8')"
   ]
  },
  {
   "cell_type": "code",
   "execution_count": 39,
   "metadata": {},
   "outputs": [
    {
     "name": "stdout",
     "output_type": "stream",
     "text": [
      "{'files': 'L:/DigitalProjects/Metadata/uo_athletics/Work/processing/20240608_NCAA_4_TF/files', 'metadata': 'C:/Users/briesenb/OneDrive - University Of Oregon/bmr_metadata_general_asstd/OD2_working_files/uo_athletics/20240608_NCAA_4_TF.csv'}\n"
     ]
    }
   ],
   "source": [
    "# OK, now I can make a simple config file\n",
    "# load a config file (I'll use the one I already have...)\n",
    "with open(\"config.yaml\", \"r\") as yamlfile:\n",
    "    config = yaml.safe_load(yamlfile)\n",
    "print(config)"
   ]
  },
  {
   "cell_type": "code",
   "execution_count": 40,
   "metadata": {},
   "outputs": [
    {
     "name": "stdout",
     "output_type": "stream",
     "text": [
      "['PH395_UP_TnF_20240608_01.tif', 'PH395_UP_TnF_20240608_02.tif', 'PH395_UP_TnF_20240608_03.tif', 'PH395_UP_TnF_20240608_04.tif', 'PH395_UP_TnF_20240608_05.tif', 'PH395_UP_TnF_20240608_06.tif', 'PH395_UP_TnF_20240608_07.tif', 'PH395_UP_TnF_20240608_08.tif', 'PH395_UP_TnF_20240608_09.tif', 'PH395_UP_TnF_20240608_10.tif', 'PH395_UP_TnF_20240608_11.tif', 'PH395_UP_TnF_20240608_12.tif', 'PH395_UP_TnF_20240608_13.tif', 'PH395_UP_TnF_20240608_14.tif', 'PH395_UP_TnF_20240608_15.tif', 'PH395_UP_TnF_20240608_16.tif', 'PH395_UP_TnF_20240608_17.tif', 'PH395_UP_TnF_20240608_18.tif', 'PH395_UP_TnF_20240608_19.tif', 'PH395_UP_TnF_20240608_20.tif', 'PH395_UP_TnF_20240608_21.tif', 'PH395_UP_TnF_20240608_22.tif', 'PH395_UP_TnF_20240608_23.tif', 'PH395_UP_TnF_20240608_24.tif', 'PH395_UP_TnF_20240608_25.tif', 'PH395_UP_TnF_20240608_26.tif', 'PH395_UP_TnF_20240608_27.tif', 'PH395_UP_TnF_20240608_28.tif', 'PH395_UP_TnF_20240608_29.tif', 'PH395_UP_TnF_20240608_30.tif', 'PH395_UP_TnF_20240608_31.tif', 'PH395_UP_TnF_20240608_32.tif', 'PH395_UP_TnF_20240608_33.tif', 'PH395_UP_TnF_20240608_34.tif', 'PH395_UP_TnF_20240608_35.tif', 'PH395_UP_TnF_20240608_36.tif', 'PH395_UP_TnF_20240608_37.tif', 'PH395_UP_TnF_20240608_38.tif', 'PH395_UP_TnF_20240608_39.tif', 'PH395_UP_TnF_20240608_40.tif', 'PH395_UP_TnF_20240608_41.tif', 'PH395_UP_TnF_20240608_42.tif', 'PH395_UP_TnF_20240608_43.tif', 'PH395_UP_TnF_20240608_44.tif', 'PH395_UP_TnF_20240608_45.tif']\n"
     ]
    }
   ],
   "source": [
    "# see about my files\n",
    "print(os.listdir(config['files']))"
   ]
  },
  {
   "cell_type": "code",
   "execution_count": 41,
   "metadata": {},
   "outputs": [
    {
     "name": "stdout",
     "output_type": "stream",
     "text": [
      "HEADERS\n",
      "=====\n",
      "dmrec\n",
      "file\n",
      "identifier\n",
      "title\n",
      "description\n",
      "local_collection_name\n",
      "local_collection_id\n",
      "photographer\n",
      "date\n",
      "subject\n",
      "location\n",
      "resource_type\n",
      "format\n",
      "rights_statement\n",
      "license\n",
      "rights_holder\n",
      "parents\n",
      "institution\n",
      "model\n",
      "has_finding_aid\n",
      "visibility\n",
      "repository\n",
      "full_size_download_allowed\n"
     ]
    }
   ],
   "source": [
    "# review headers\n",
    "# possible to-do - validate against list for collection\n",
    "with open(config['metadata'], \"r\", encoding=\"utf-8-sig\") as csvfile:\n",
    "    reader = csv.DictReader(csvfile)\n",
    "    headers = reader.fieldnames\n",
    "    print(f\"HEADERS\\n{\"=\"*5}\")\n",
    "    for item in headers:\n",
    "        print(item)"
   ]
  },
  {
   "cell_type": "markdown",
   "metadata": {},
   "source": [
    "**comparing lists**  \n",
    "- GG > [Difference between two lists in Python](https://www.geeksforgeeks.org/python-difference-two-lists/)\n",
    "- SO > [How can I compare two lists in python and return matches](https://stackoverflow.com/questions/1388818/how-can-i-compare-two-lists-in-python-and-return-matches) (see \"this question already has answers here\")\n",
    "- docs.python.org > [Set Types -- set, frozenset](https://docs.python.org/3/library/stdtypes.html#set-types-set-frozenset)"
   ]
  },
  {
   "cell_type": "code",
   "execution_count": 42,
   "metadata": {},
   "outputs": [
    {
     "name": "stdout",
     "output_type": "stream",
     "text": [
      "0 filenames from files/ not in metadata:\n",
      "[]\n",
      "0 filenames from metadata not in files/:\n",
      "[]\n"
     ]
    }
   ],
   "source": [
    "# compare files with file values\n",
    "# ...someone must've figured out a good way to do this already (see above)\n",
    "# but what do I want to provide here? a two-column view? Something else??\n",
    "\n",
    "# get files\n",
    "files = os.listdir(config['files'])\n",
    "# test\n",
    "# print(len(files))\n",
    "\n",
    "# get filenames from csv\n",
    "filenames = []\n",
    "with open(config['metadata'], \"r\", encoding=\"utf-8-sig\") as csvfile:\n",
    "    reader = csv.DictReader(csvfile)\n",
    "    counter = 0\n",
    "    for row in reader:\n",
    "        filenames.append(row['file'])\n",
    "# test\n",
    "# print(len(filenames))\n",
    "\n",
    "# report\n",
    "diff = list(set(files) - set(filenames))\n",
    "if len(diff) > 0:\n",
    "    print(f\"{len(diff)} filenames from files/ not in metadata:\")\n",
    "    print(diff)\n",
    "else:\n",
    "    print(\"filenames in files/ and metadata match\")\n",
    "diff = list(set(filenames) - set(files))\n",
    "if len(diff) > 0:\n",
    "    print(f\"{len(diff)} filenames from metadata not in files/:\")\n",
    "    print(diff)\n",
    "else:\n",
    "    print(\"filenames in metadata and files/ match\")\n"
   ]
  },
  {
   "cell_type": "code",
   "execution_count": 13,
   "metadata": {},
   "outputs": [
    {
     "name": "stdout",
     "output_type": "stream",
     "text": [
      "filenames and identifiers match\n"
     ]
    }
   ],
   "source": [
    "# confirm file / identifier match\n",
    "# combine this with above??\n",
    "with open(f\"{workingdir}/{md_to_check}\", \"r\", encoding=\"utf-8-sig\") as csvfile:\n",
    "    reader = csv.DictReader(csvfile)\n",
    "    mismatch = []\n",
    "    for row in reader:\n",
    "        if row['identifier'] == row['file']:\n",
    "            mismatch.append(row['identifier'])\n",
    "if len(mismatch) > 0:\n",
    "    print(\"correct identifier values:\")\n",
    "    for item in mismatch:\n",
    "        print(item)\n",
    "else:\n",
    "    print(\"filenames and identifiers match\")"
   ]
  }
 ],
 "metadata": {
  "kernelspec": {
   "display_name": ".venv",
   "language": "python",
   "name": "python3"
  },
  "language_info": {
   "codemirror_mode": {
    "name": "ipython",
    "version": 3
   },
   "file_extension": ".py",
   "mimetype": "text/x-python",
   "name": "python",
   "nbconvert_exporter": "python",
   "pygments_lexer": "ipython3",
   "version": "3.12.8"
  }
 },
 "nbformat": 4,
 "nbformat_minor": 2
}
