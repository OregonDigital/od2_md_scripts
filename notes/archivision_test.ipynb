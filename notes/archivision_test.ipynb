{
 "cells": [
  {
   "cell_type": "code",
   "execution_count": 25,
   "id": "2970a257",
   "metadata": {},
   "outputs": [],
   "source": [
    "import sys, os, yaml\n",
    "sys.path.append('..')\n",
    "from od2validation import Package"
   ]
  },
  {
   "cell_type": "code",
   "execution_count": 26,
   "id": "b334ae6c",
   "metadata": {},
   "outputs": [
    {
     "name": "stdout",
     "output_type": "stream",
     "text": [
      "['specimen_type', 'creator_display', 'keyword', 'aspect_ratio', 'image_producer', 'water_basin', 'rights_holder', 'dedicatee', 'biographical_information', 'folder_name', 'tribal_title', 'duration', 'lyricist', 'use_restrictions', 'has_finding_aid', 'mods_note', 'related_url', 'street_address', 'language', 'publisher', 'subject', 'has_version', 'phylum_or_division', 'abstract', 'military_highest_rank', 'format_label', 'paragraph_count', 'series_number', 'barcode', 'resolution', 'valid', 'genus', 'tribal_notes', 'date_uploaded', 'designer_inscription', 'contained_in_journal', 'instrumentation', 'height', 'award_date', 'layout', 'cartographer', 'military_occupation', 'view_date', 'creator', 'taxon_class', 'collector', 'style_or_period', 'cover_description', 'art_series', 'editor', 'repository', 'illustrator', 'accepted_name_usage', 'description', 'channels', 'title', 'is_volume', 'source', 'profile_name', 'offset', 'order', 'temporal', 'compass_direction', 'rights_statement', 'archival_object_id', 'larger_work', 'character_count', 'rights_note', 'box', 'plss', 'series_name', 'location', 'mask_content', 'bit_rate', 'data_format', 'original_filename', 'has_number', 'first_line_chorus', 'motif', 'graphics_count', 'measurements', 'folder_number', 'institution', 'original_name_usage', 'translator', 'exif_version', 'issued', 'file_title', 'legal_name', 'capture_device', 'has_part', 'publication_place', 'applicant', 'designer', 'oembed_url', 'identification_verification_status', 'form_of_work', 'frame_rate', 'table_count', 'item_locator', 'date', 'tgn', 'arranger', 'sample_rate', 'photograph_orientation', 'full_text', 'date_created', 'byte_order', 'acquisition_date', 'resource_type', 'transcriber', 'longitude', 'family', 'license', 'color_content', 'common_name', 'copyright_claimant', 'bit_depth', 'conversion', 'local_collection_id', 'current_repository_id', 'owner', 'technique', 'coverage', 'markup_language', 'object_orientation', 'interviewee', 'species', 'color_map', 'color_space', 'full_size_download_allowed', 'print_maker', 'longitude_latitude_identification', 'ethnographic_term', 'author', 'file_size', 'interviewer', 'identifier', 'former_owner', 'markup_basis', 'view', 'award', 'tribal_classes', 'donor', 'ranger_district', 'location_copyshelf_location', 'copy_location', 'contributor', 'line_count', 'isPartOf', 'military_branch', 'original_checksum', 'sports_team', 'event', 'well_formed', 'exhibit', 'local_contexts', 'material', 'word_count', 'hydrologic_unit_code', 'first_line', 'gps_latitude', 'source_condition', 'citation', 'accession_number', 'inscription', 'gps_longitude', 'physical_extent', 'relation', 'recipient', 'local_collection_name', 'mode_of_issuance', 'military_service_location', 'replaces_url', 'orientation', 'state_or_edition', 'photographer', 'profile_version', 'scientific_name_authorship', 'compression', 'landscape_architect', 'modified_date', 'is_version_of', 'description_of_manifestation', 'content_alert', 'scanning_software', 'gps_timestamp', 'page_count', 'place_of_production', 'collected_date', 'composer', 'access_restrictions', 'alternative', 'on_pages', 'hasCreatingApplicationVersion', 'patron', 'artist', 'box_number', 'table_of_contents', 'width', 'provenance', 'tribal_terms', 'cultural_context', 'character_set', 'latitude', 'workType']\n",
      "<class 'list'>\n",
      "206\n"
     ]
    }
   ],
   "source": [
    "# ok let's see whether any / how many headers = OD2 prop ids\n",
    "od2_props = []\n",
    "for id in os.listdir(\"/home/nebgreb/git/MAP_formats/yaml\"):\n",
    "    od2_props.append(id.split('.')[0])\n",
    "print(od2_props)\n",
    "print(type(od2_props))\n",
    "print(len(od2_props))"
   ]
  },
  {
   "cell_type": "code",
   "execution_count": 27,
   "id": "907d5622",
   "metadata": {},
   "outputs": [
    {
     "name": "stdout",
     "output_type": "stream",
     "text": [
      "['Agent1_SortName', 'Agent2_SortName', 'Agent3_SortName', 'Agent_Display', 'GPS', 'Image_Description', 'Image_Filename', 'Image_IDNumber', 'Image_OriginalVendorID', 'Image_Rights', 'Image_Title', 'LocalCollection', 'SetAsThumb', 'SubjectDisplayCombined', 'Vendor_Name', 'WorkID', 'Work_AltTitle', 'Work_BuildingSiteName', 'Work_Classification', 'Work_Continent', 'Work_CultureDisplay', 'Work_DateDisplay', 'Work_DescriptionCombined', 'Work_InscriptionDisplay', 'Work_LocationCitySite', 'Work_LocationCombined', 'Work_LocationCountry', 'Work_LocationNotes', 'Work_MaterialDisplay', 'Work_MeasurementDisplay', 'Work_PrefTitle', 'Work_RelatedWorkCombined', 'Work_StateRegion', 'Work_StylePeriod1', 'Work_StylePeriod2', 'Work_StylePeriod3', 'Work_StylePeriod4', 'Work_StylePeriodDisplay', 'Work_TechniqueDisplay', 'Work_Worktype1', 'Work_Worktype2', 'Work_Worktype3', 'Work_Worktype4', 'Work_WorktypeDisplay']\n",
      "<class 'list'>\n",
      "44\n"
     ]
    }
   ],
   "source": [
    "with open(\"../config/archivision.yaml\", \"r\") as yf:\n",
    "    headers = yaml.safe_load(yf)\n",
    "headers = list(headers.keys())\n",
    "print(headers)\n",
    "print(type(headers))\n",
    "print(len(headers))"
   ]
  },
  {
   "cell_type": "code",
   "execution_count": 28,
   "id": "96c2db86",
   "metadata": {},
   "outputs": [
    {
     "name": "stdout",
     "output_type": "stream",
     "text": [
      "[]\n"
     ]
    }
   ],
   "source": [
    "are_od2_props = set(headers).intersection(set(od2_props))\n",
    "print(list(are_od2_props))"
   ]
  },
  {
   "cell_type": "code",
   "execution_count": null,
   "id": "01f00a51",
   "metadata": {},
   "outputs": [
    {
     "name": "stdout",
     "output_type": "stream",
     "text": [
      "['specimen_type']\n"
     ]
    }
   ],
   "source": [
    "# OK, none of the headers ^^^ are OD2 property IDs\n",
    "# but, can this be right? test:\n",
    "test = headers\n",
    "test.append('specimen_type')\n",
    "are_od2_props = set(test).intersection(set(od2_props))\n",
    "print(list(are_od2_props))"
   ]
  },
  {
   "cell_type": "code",
   "execution_count": null,
   "id": "32f81664",
   "metadata": {},
   "outputs": [],
   "source": []
  }
 ],
 "metadata": {
  "kernelspec": {
   "display_name": ".venv",
   "language": "python",
   "name": "python3"
  },
  "language_info": {
   "codemirror_mode": {
    "name": "ipython",
    "version": 3
   },
   "file_extension": ".py",
   "mimetype": "text/x-python",
   "name": "python",
   "nbconvert_exporter": "python",
   "pygments_lexer": "ipython3",
   "version": "3.12.3"
  }
 },
 "nbformat": 4,
 "nbformat_minor": 5
}
