{
 "cells": [
  {
   "cell_type": "code",
   "execution_count": 1,
   "metadata": {},
   "outputs": [],
   "source": [
    "html = \"http://opaquenamespace.org/ns/people/ChocekTaylor|http://id.loc.gov/authorities/subjects/sh97003632.html|http://id.loc.gov/authorities/subjects/sh85127031|http://id.loc.gov/authorities/subjects/sh85115866|http://id.loc.gov/authorities/subjects/sh99012467\"\n",
    "space = \"http://opaquenamespace.org/ns/people/ChocekTaylor|http://id.loc.gov/authorities/subjects/sh97003632| http://id.loc.gov/authorities/subjects/sh85127031|http://id.loc.gov/authorities/subjects/sh85115866 |http://id.loc.gov/authorities/subjects/sh99012467\""
   ]
  },
  {
   "cell_type": "code",
   "execution_count": null,
   "metadata": {},
   "outputs": [],
   "source": []
  }
 ],
 "metadata": {
  "kernelspec": {
   "display_name": ".venv",
   "language": "python",
   "name": "python3"
  },
  "language_info": {
   "codemirror_mode": {
    "name": "ipython",
    "version": 3
   },
   "file_extension": ".py",
   "mimetype": "text/x-python",
   "name": "python",
   "nbconvert_exporter": "python",
   "pygments_lexer": "ipython3",
   "version": "3.12.8"
  }
 },
 "nbformat": 4,
 "nbformat_minor": 2
}
