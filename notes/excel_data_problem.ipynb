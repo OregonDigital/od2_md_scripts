{
 "cells": [
  {
   "cell_type": "markdown",
   "id": "40d939b4",
   "metadata": {},
   "source": [
    "**these blasted Excel values that appear differently than they are**  \n",
    "\n",
    "![screenshot of an Excel file open in LibreOffice](blasted_excel.png)"
   ]
  },
  {
   "cell_type": "code",
   "execution_count": null,
   "id": "e85065b6",
   "metadata": {},
   "outputs": [],
   "source": [
    "# can I spare all the heartache and pain by just saving as CSV right off the bat???\n",
    "import pandas as pd\n",
    "df = pd.read_excel(\"C:/Users/briesenb/git/od2_md_scripts/test/test_uo_athletics.xlsx\", sheet_name=\"blarf\")\n",
    "df.to_csv(\"C:/Users/briesenb/git/od2_md_scripts/test/test_uo_athletics.csv\")\n",
    "# no, this doesn't seem to work :("
   ]
  },
  {
   "cell_type": "markdown",
   "id": "0f142261",
   "metadata": {},
   "source": [
    "*2025-07-03 workaround*  \n",
    "Open **in Excel**, save as `CSV UTF-8 (Comma delimited) *.csv` works...  \n",
    "But I'd like a better solution. What is this? How does this problem come to be?? "
   ]
  }
 ],
 "metadata": {
  "language_info": {
   "name": "python"
  }
 },
 "nbformat": 4,
 "nbformat_minor": 5
}
