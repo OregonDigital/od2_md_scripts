{
 "cells": [
  {
   "cell_type": "markdown",
   "metadata": {},
   "source": [
    "**how does yaml `safe_load()` handle leading and trailing spaces in list values**"
   ]
  },
  {
   "cell_type": "code",
   "execution_count": null,
   "metadata": {},
   "outputs": [],
   "source": [
    "import json\n",
    "import yaml\n",
    "# see file for leading and trailing spaces\n",
    "with open(\"variations.yaml\", \"r\") as yamlfile:\n",
    "    test = yaml.safe_load(yamlfile)\n",
    "pretty = json.dumps(test, indent=4)\n",
    "print(pretty)"
   ]
  },
  {
   "cell_type": "markdown",
   "metadata": {},
   "source": [
    "**comparing lists**  \n",
    "- GG > [Difference between two lists in Python](https://www.geeksforgeeks.org/python-difference-two-lists/)\n",
    "- SO > [How can I compare two lists in python and return matches](https://stackoverflow.com/questions/1388818/how-can-i-compare-two-lists-in-python-and-return-matches) (see \"this question already has answers here\")\n",
    "- docs.python.org > [Set Types -- set, frozenset](https://docs.python.org/3/library/stdtypes.html#set-types-set-frozenset)"
   ]
  },
  {
   "cell_type": "code",
   "execution_count": null,
   "metadata": {},
   "outputs": [],
   "source": [
    "# test set\n",
    "# see Od2Package > Package > check_assets_filenames()\n",
    "one = [1, 2]\n",
    "two = [3, 4, 5, 6]\n",
    "diff = len(one) - len(two)\n",
    "if diff != 0:\n",
    "    print(\"difference in list lengths\")\n",
    "    print(diff)"
   ]
  },
  {
   "cell_type": "markdown",
   "metadata": {},
   "source": [
    "**`list.append()` / `list.extend()`**"
   ]
  },
  {
   "cell_type": "code",
   "execution_count": null,
   "metadata": {},
   "outputs": [],
   "source": [
    "list1 = ['apple', 'orange']\n",
    "list2 = ['pineapple']\n",
    "list1.append(list2)\n",
    "print(list1)"
   ]
  },
  {
   "cell_type": "code",
   "execution_count": null,
   "metadata": {},
   "outputs": [],
   "source": [
    "list1 = ['apple', 'orange']\n",
    "list2 = ['pineapple']\n",
    "list1.extend(list2)\n",
    "print(list1)"
   ]
  },
  {
   "cell_type": "markdown",
   "metadata": {},
   "source": [
    "**an idea for working through the delimited data:**  "
   ]
  },
  {
   "cell_type": "code",
   "execution_count": null,
   "metadata": {},
   "outputs": [],
   "source": [
    "# validate column-by-column\n",
    "# check coll_config for column header first,\n",
    "# if no use column info from default_config\n",
    "    # either case header[0] options are:\n",
    "        # function - call function names in header[1]\n",
    "        # regex - evaluate values against regex in header [1]\n",
    "        # string - evaluate values to match exactly string in header[1]"
   ]
  },
  {
   "cell_type": "markdown",
   "metadata": {},
   "source": [
    "*but how to call methods dynamically, without having to include opening/closing file in **each** method???*\n",
    "\n",
    "**below response/code are from Google Gemini**:  \n",
    "\n",
    "> In this approach, the CSV file is opened and read only once during the initialization of the CSVHandler class. The data is stored in the self.data attribute, which is a tuple containing the header and the data rows. Subsequent calls to the check_row method access the data from memory, eliminating the need to reopen the file."
   ]
  },
  {
   "cell_type": "code",
   "execution_count": null,
   "metadata": {},
   "outputs": [],
   "source": [
    "import csv\n",
    "\n",
    "class CSVHandler:\n",
    "    def __init__(self, filename):\n",
    "        self.filename = filename\n",
    "        self.data = self.load_data()\n",
    "\n",
    "    def load_data(self):\n",
    "        with open(self.filename, 'r') as file:\n",
    "            reader = csv.reader(file)\n",
    "            header = next(reader)\n",
    "            data = list(reader)\n",
    "        return header, data\n",
    "\n",
    "    def check_row(self, row_number, column_name, value):\n",
    "         header, data = self.data\n",
    "         column_index = header.index(column_name)\n",
    "         if 0 <= row_number < len(data):\n",
    "            return data[row_number][column_index] == value\n",
    "         else:\n",
    "            return False\n",
    "\n",
    "# Usage\n",
    "csv_handler = CSVHandler('my_data.csv')\n",
    "if csv_handler.check_row(0, 'Name', 'John'):\n",
    "    print(\"The value is correct\")\n",
    "else:\n",
    "    print(\"The value is incorrect or the row number is out of bounds.\")"
   ]
  },
  {
   "cell_type": "markdown",
   "metadata": {},
   "source": [
    "**how to use a dictionary to dynamically select and call a method based on the column header?**  \n",
    "more example code from Google Gemini AI below"
   ]
  },
  {
   "cell_type": "code",
   "execution_count": null,
   "metadata": {},
   "outputs": [],
   "source": [
    "# this works\n",
    "\n",
    "class MyClass:\n",
    "    def method_a(self):\n",
    "        return \"Method A called\"\n",
    "\n",
    "    def method_b(self):\n",
    "        return \"Method B called\"\n",
    "\n",
    "    def method_c(self):\n",
    "        return \"Method C called\"\n",
    "\n",
    "    def select_and_call_method(self, key):\n",
    "        method_mapping = {\n",
    "            \"a\": self.method_a,\n",
    "            \"b\": self.method_b,\n",
    "            \"c\": self.method_c,\n",
    "        }\n",
    "        \n",
    "        method = method_mapping.get(key)\n",
    "        if method:\n",
    "            return method() # how does this work???\n",
    "        else:\n",
    "            return \"Invalid key\"\n",
    "\n"
   ]
  },
  {
   "cell_type": "code",
   "execution_count": null,
   "metadata": {},
   "outputs": [],
   "source": [
    "obj = MyClass()\n",
    "\n",
    "print(obj.select_and_call_method(\"a\"))\n",
    "print(obj.select_and_call_method(\"b\"))\n",
    "print(obj.select_and_call_method(\"c\"))\n",
    "print(obj.select_and_call_method(\"d\"))"
   ]
  },
  {
   "cell_type": "markdown",
   "metadata": {},
   "source": [
    "**OK well I'm doing this ^^^**  \n",
    "*See [Commit ac19526](https://github.com/OregonDigital/od2_md_scripts/commit/ac1952696f6106faf03c56b535b02fb2c29a182b)*  "
   ]
  },
  {
   "cell_type": "markdown",
   "metadata": {},
   "source": [
    "**back to Python dict - to - YAML**"
   ]
  },
  {
   "cell_type": "code",
   "execution_count": null,
   "metadata": {},
   "outputs": [],
   "source": [
    "test = {\n",
    "    'blarf': None,\n",
    "    'snarl': None,\n",
    "    'woof': [\n",
    "        'string', \n",
    "        'hello_heres_the_string'\n",
    "    ]\n",
    "}"
   ]
  },
  {
   "cell_type": "code",
   "execution_count": null,
   "metadata": {},
   "outputs": [],
   "source": [
    "import json\n",
    "print(type(test))\n",
    "pretty = json.dumps(test, indent=4)\n",
    "print(pretty)\n"
   ]
  },
  {
   "cell_type": "code",
   "execution_count": null,
   "metadata": {},
   "outputs": [],
   "source": [
    "import yaml\n",
    "with open(\"bsw.yaml\", \"w+\") as yamlfile:\n",
    "    yaml.safe_dump(test, yamlfile, encoding='utf-8')"
   ]
  },
  {
   "cell_type": "markdown",
   "metadata": {},
   "source": [
    "**adding a 'method' check type**  \n",
    "might need additional data in config file to pass args to the method... how to model this???  "
   ]
  },
  {
   "cell_type": "code",
   "execution_count": null,
   "metadata": {},
   "outputs": [],
   "source": [
    "import json\n",
    "with open(\"bswg.yaml\", \"r\") as yamlfile:\n",
    "    again = yaml.safe_load(yamlfile)\n",
    "asjson = json.dumps(again, indent=4)\n",
    "print(asjson)\n"
   ]
  },
  {
   "cell_type": "markdown",
   "metadata": {},
   "source": [
    "**iterating through config file**"
   ]
  },
  {
   "cell_type": "code",
   "execution_count": null,
   "metadata": {},
   "outputs": [],
   "source": [
    "import yaml\n",
    "\n",
    "with open(\"../config/test.yaml\", \"r\") as yamlfile:\n",
    "    config = yaml.safe_load(yamlfile)\n",
    "\n",
    "for key, value in config.items():\n",
    "    header = key\n",
    "    try:\n",
    "        check_type = value[0]\n",
    "        check_value = value[1]\n",
    "        print(f\"check header {header} with {check_type} - {check_value}\")\n",
    "    except TypeError as e:\n",
    "        print(f\"no check configured for header {header}\")\n"
   ]
  },
  {
   "cell_type": "markdown",
   "metadata": {},
   "source": [
    "**getting excel file and sheet name from input**"
   ]
  },
  {
   "cell_type": "code",
   "execution_count": 2,
   "metadata": {},
   "outputs": [
    {
     "name": "stdout",
     "output_type": "stream",
     "text": [
      "filepath = hello.xlsx, sheet_name = what\n"
     ]
    }
   ],
   "source": [
    "string = input(\"enter a filename with extension .xlsx and a sheet name\\n>>>\")\n",
    "if len(string.split()) > 1 and string.split()[0].split('.')[-1] == \"xlsx\":\n",
    "    filepath = string.split()[0]\n",
    "    sheet_name = string.split()[1]\n",
    "print(f\"filepath = {filepath}, sheet_name = {sheet_name}\")"
   ]
  }
 ],
 "metadata": {
  "kernelspec": {
   "display_name": ".venv",
   "language": "python",
   "name": "python3"
  },
  "language_info": {
   "codemirror_mode": {
    "name": "ipython",
    "version": 3
   },
   "file_extension": ".py",
   "mimetype": "text/x-python",
   "name": "python",
   "nbconvert_exporter": "python",
   "pygments_lexer": "ipython3",
   "version": "3.12.3"
  }
 },
 "nbformat": 4,
 "nbformat_minor": 2
}
