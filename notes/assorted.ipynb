{
 "cells": [
  {
   "cell_type": "markdown",
   "metadata": {},
   "source": [
    "**how does yaml `safe_load()` handle leading and trailing spaces in list values**"
   ]
  },
  {
   "cell_type": "code",
   "execution_count": null,
   "metadata": {},
   "outputs": [],
   "source": [
    "import json\n",
    "import yaml\n",
    "# see file for leading and trailing spaces\n",
    "with open(\"variations.yaml\", \"r\") as yamlfile:\n",
    "    test = yaml.safe_load(yamlfile)\n",
    "pretty = json.dumps(test, indent=4)\n",
    "print(pretty)"
   ]
  },
  {
   "cell_type": "markdown",
   "metadata": {},
   "source": [
    "**comparing lists**  \n",
    "- GG > [Difference between two lists in Python](https://www.geeksforgeeks.org/python-difference-two-lists/)\n",
    "- SO > [How can I compare two lists in python and return matches](https://stackoverflow.com/questions/1388818/how-can-i-compare-two-lists-in-python-and-return-matches) (see \"this question already has answers here\")\n",
    "- docs.python.org > [Set Types -- set, frozenset](https://docs.python.org/3/library/stdtypes.html#set-types-set-frozenset)"
   ]
  },
  {
   "cell_type": "code",
   "execution_count": null,
   "metadata": {},
   "outputs": [],
   "source": [
    "# test set\n",
    "# see Od2Package > Package > check_assets_filenames()\n",
    "one = [1, 2]\n",
    "two = [3, 4, 5, 6]\n",
    "diff = len(one) - len(two)\n",
    "if diff != 0:\n",
    "    print(\"difference in list lengths\")\n",
    "    print(diff)"
   ]
  },
  {
   "cell_type": "markdown",
   "metadata": {},
   "source": [
    "**`list.append()` / `list.extend()`**"
   ]
  },
  {
   "cell_type": "code",
   "execution_count": null,
   "metadata": {},
   "outputs": [],
   "source": [
    "list1 = ['apple', 'orange']\n",
    "list2 = ['pineapple']\n",
    "list1.append(list2)\n",
    "print(list1)"
   ]
  },
  {
   "cell_type": "code",
   "execution_count": null,
   "metadata": {},
   "outputs": [],
   "source": [
    "list1 = ['apple', 'orange']\n",
    "list2 = ['pineapple']\n",
    "list1.extend(list2)\n",
    "print(list1)"
   ]
  },
  {
   "cell_type": "markdown",
   "metadata": {},
   "source": [
    "**how to use a dictionary to dynamically select and call a method based on the column header?**  \n",
    "more example code from Google Gemini AI below"
   ]
  },
  {
   "cell_type": "code",
   "execution_count": null,
   "metadata": {},
   "outputs": [],
   "source": [
    "# this works\n",
    "\n",
    "class MyClass:\n",
    "    def method_a(self):\n",
    "        return \"Method A called\"\n",
    "\n",
    "    def method_b(self):\n",
    "        return \"Method B called\"\n",
    "\n",
    "    def method_c(self):\n",
    "        return \"Method C called\"\n",
    "\n",
    "    def select_and_call_method(self, key):\n",
    "        method_mapping = {\n",
    "            \"a\": self.method_a,\n",
    "            \"b\": self.method_b,\n",
    "            \"c\": self.method_c,\n",
    "        }\n",
    "        \n",
    "        method = method_mapping.get(key)\n",
    "        if method:\n",
    "            return method() # how does this work???\n",
    "        else:\n",
    "            return \"Invalid key\"\n",
    "\n"
   ]
  },
  {
   "cell_type": "code",
   "execution_count": null,
   "metadata": {},
   "outputs": [],
   "source": [
    "obj = MyClass()\n",
    "\n",
    "print(obj.select_and_call_method(\"a\"))\n",
    "print(obj.select_and_call_method(\"b\"))\n",
    "print(obj.select_and_call_method(\"c\"))\n",
    "print(obj.select_and_call_method(\"d\"))"
   ]
  },
  {
   "cell_type": "markdown",
   "metadata": {},
   "source": [
    "**OK well I'm doing this ^^^**  \n",
    "*See [Commit ac19526](https://github.com/OregonDigital/od2_md_scripts/commit/ac1952696f6106faf03c56b535b02fb2c29a182b)*  "
   ]
  },
  {
   "cell_type": "markdown",
   "metadata": {},
   "source": [
    "see also `more_dynamic_methods.py`, [get_method: \"'method' object is not subscriptable\" #5](https://github.com/OregonDigital/od2_md_scripts/issues/5) "
   ]
  },
  {
   "cell_type": "markdown",
   "metadata": {},
   "source": [
    "**back to Python dict - to - YAML**"
   ]
  },
  {
   "cell_type": "code",
   "execution_count": null,
   "metadata": {},
   "outputs": [],
   "source": [
    "test = {\n",
    "    'blarf': None,\n",
    "    'snarl': None,\n",
    "    'woof': [\n",
    "        'string', \n",
    "        'hello_heres_the_string'\n",
    "    ]\n",
    "}"
   ]
  },
  {
   "cell_type": "code",
   "execution_count": null,
   "metadata": {},
   "outputs": [],
   "source": [
    "import json\n",
    "print(type(test))\n",
    "pretty = json.dumps(test, indent=4)\n",
    "print(pretty)\n"
   ]
  },
  {
   "cell_type": "code",
   "execution_count": null,
   "metadata": {},
   "outputs": [],
   "source": [
    "import yaml\n",
    "with open(\"bsw.yaml\", \"w+\") as yamlfile:\n",
    "    yaml.safe_dump(test, yamlfile, encoding='utf-8')"
   ]
  }
 ],
 "metadata": {
  "kernelspec": {
   "display_name": "Python 3",
   "language": "python",
   "name": "python3"
  },
  "language_info": {
   "codemirror_mode": {
    "name": "ipython",
    "version": 3
   },
   "file_extension": ".py",
   "mimetype": "text/x-python",
   "name": "python",
   "nbconvert_exporter": "python",
   "pygments_lexer": "ipython3",
   "version": "3.12.10"
  }
 },
 "nbformat": 4,
 "nbformat_minor": 2
}
