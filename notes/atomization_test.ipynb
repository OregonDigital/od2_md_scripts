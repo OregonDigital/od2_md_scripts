{
 "cells": [
  {
   "cell_type": "code",
   "execution_count": 11,
   "id": "f512efbc",
   "metadata": {},
   "outputs": [],
   "source": [
    "import pandas as pd"
   ]
  },
  {
   "cell_type": "code",
   "execution_count": 12,
   "id": "731bd0fa",
   "metadata": {},
   "outputs": [],
   "source": [
    "excel = pd.read_excel(\"atomization_test.xlsx\")\n",
    "csv = pd.read_csv(\"atomization_test.csv\")"
   ]
  },
  {
   "cell_type": "code",
   "execution_count": 13,
   "id": "48a25fa9",
   "metadata": {},
   "outputs": [
    {
     "name": "stdout",
     "output_type": "stream",
     "text": [
      "                                      words         numbers  \\\n",
      "0                            hello|hi|wowza           1|2|3   \n",
      "1                   hello | hi| wowza | oh?     1 |2 | 3 |4   \n",
      "2  hi there|how are you?|isn’t this lovely?  1 2|34 5|6   7   \n",
      "\n",
      "                                                URIs  \n",
      "0  http://id.loc.gov/authorities/subjects/sh85092...  \n",
      "1  http://id.loc.gov/authorities/subjects/sh85092...  \n",
      "2  http://id.loc.gov/authorities/subjects/sh20120...  \n",
      "row 2 'hello'\n",
      "row 2 'hi'\n",
      "row 2 'wowza'\n",
      "row 3 'hello '\n",
      "row 3 ' hi'\n",
      "row 3 ' wowza '\n",
      "row 3 ' oh?'\n",
      "row 4 'hi there'\n",
      "row 4 'how are you?'\n",
      "row 4 'isn’t this lovely?'\n",
      "row 2 '1'\n",
      "row 2 '2'\n",
      "row 2 '3'\n",
      "row 3 '1 '\n",
      "row 3 '2 '\n",
      "row 3 ' 3 '\n",
      "row 3 '4'\n",
      "row 4 '1 2'\n",
      "row 4 '34 5'\n",
      "row 4 '6   7'\n",
      "row 2 'http://id.loc.gov/authorities/subjects/sh85092415'\n",
      "row 2 'http://id.loc.gov/authorities/subjects/sh85124500'\n",
      "row 2 'http://id.loc.gov/authorities/subjects/sh85081118'\n",
      "row 3 'http://id.loc.gov/authorities/subjects/sh85092415 '\n",
      "row 3 ' http://id.loc.gov/authorities/subjects/sh85124500'\n",
      "row 3 ' http://id.loc.gov/authorities/subjects/sh85081118 '\n",
      "row 3 ' http://id.loc.gov/authorities/subjects/sh85146930'\n",
      "row 4 'http://id.loc.gov/authorities/subjects/sh2012003393'\n",
      "                                      words         numbers  \\\n",
      "0                            hello|hi|wowza           1|2|3   \n",
      "1                   hello | hi| wowza | oh?     1 |2 | 3 |4   \n",
      "2  hi there|how are you?|isn’t this lovely?  1 2|34 5|6   7   \n",
      "\n",
      "                                                URIs  \n",
      "0  http://id.loc.gov/authorities/subjects/sh85092...  \n",
      "1  http://id.loc.gov/authorities/subjects/sh85092...  \n",
      "2  http://id.loc.gov/authorities/subjects/sh20120...  \n",
      "row 2 'hello'\n",
      "row 2 'hi'\n",
      "row 2 'wowza'\n",
      "row 3 'hello '\n",
      "row 3 ' hi'\n",
      "row 3 ' wowza '\n",
      "row 3 ' oh?'\n",
      "row 4 'hi there'\n",
      "row 4 'how are you?'\n",
      "row 4 'isn’t this lovely?'\n",
      "row 2 '1'\n",
      "row 2 '2'\n",
      "row 2 '3'\n",
      "row 3 '1 '\n",
      "row 3 '2 '\n",
      "row 3 ' 3 '\n",
      "row 3 '4'\n",
      "row 4 '1 2'\n",
      "row 4 '34 5'\n",
      "row 4 '6   7'\n",
      "row 2 'http://id.loc.gov/authorities/subjects/sh85092415'\n",
      "row 2 'http://id.loc.gov/authorities/subjects/sh85124500'\n",
      "row 2 'http://id.loc.gov/authorities/subjects/sh85081118'\n",
      "row 3 'http://id.loc.gov/authorities/subjects/sh85092415 '\n",
      "row 3 ' http://id.loc.gov/authorities/subjects/sh85124500'\n",
      "row 3 ' http://id.loc.gov/authorities/subjects/sh85081118 '\n",
      "row 3 ' http://id.loc.gov/authorities/subjects/sh85146930'\n",
      "row 4 'http://id.loc.gov/authorities/subjects/sh2012003393'\n",
      "\n",
      "\n"
     ]
    }
   ],
   "source": [
    "formats = [excel, csv]\n",
    "for format in formats:\n",
    "    print(str(format))\n",
    "    to_check = [\"words\", \"numbers\", \"URIs\"]\n",
    "    for item in to_check:\n",
    "        for index, row in excel.iterrows():\n",
    "            for value in row[item].split('|'):\n",
    "                print(f\"row {index + 2} '{value}'\")\n",
    "print(\"\\n\")"
   ]
  }
 ],
 "metadata": {
  "kernelspec": {
   "display_name": ".venv",
   "language": "python",
   "name": "python3"
  },
  "language_info": {
   "codemirror_mode": {
    "name": "ipython",
    "version": 3
   },
   "file_extension": ".py",
   "mimetype": "text/x-python",
   "name": "python",
   "nbconvert_exporter": "python",
   "pygments_lexer": "ipython3",
   "version": "3.12.10"
  }
 },
 "nbformat": 4,
 "nbformat_minor": 5
}
