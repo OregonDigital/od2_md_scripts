{
 "cells": [
  {
   "cell_type": "markdown",
   "metadata": {},
   "source": [
    "**to-dos**  \n",
    "*see [uo-athletics_guide](https://uoregon.sharepoint.com/:w:/r/sites/O365_LIB_DigitalLibraryServices/Shared%20Documents/OD2_UOregon/_guides/uo-athletics_guide.docx?d=w709e55a2446549b7a995d87657488226&csf=1&web=1&e=HV05YE) for current manual QA steps*\n",
    "\n",
    "\n",
    "- confirm match from file column in csv for file in files/\n",
    "    - this would look different for metadata for compound objs\n",
    "- confirm match file <--> identifier\\*\n",
    "- confirm no data in dmrec column\n",
    "- UO Athletics: file values begin `PH395_UP`, end `.tif`\n",
    "- UO Athletics: identifier values begin `PH395_UP`\n",
    "- UO Athletics\n",
    "- columns taking IRIs\n",
    "    - check for spaces before / after\n",
    "    - check for missing '|'\n",
    "- confirm no data in rows with no filename\n",
    "\n",
    "\\*UO Athletics-specific??\n",
    "\n",
    "**ideas / questions**  \n",
    "- validate column headers - this could involve adding list of headers to colls data\n",
    "- force match folder + file names / rename folders and files\n",
    "- check encoding or otherwise avoid messed-up item titles\n",
    "- check identifier strings based on collection? \n",
    "- There's lots of collection-specific stuff that *could* be done but...\n",
    "- replace old file with new / summarize changes when replacing old file with new?\n",
    "\n",
    "\n",
    "\n"
   ]
  },
  {
   "cell_type": "code",
   "execution_count": 4,
   "metadata": {},
   "outputs": [],
   "source": [
    "import csv, os"
   ]
  },
  {
   "cell_type": "code",
   "execution_count": 10,
   "metadata": {},
   "outputs": [
    {
     "name": "stdout",
     "output_type": "stream",
     "text": [
      "['20240607_NCAA_3_TF', '20240608_NCAA_4_TF', '20240815_Seattle_U_SOC', 'uo-athletics-guidance-load-to-coll.url']\n",
      "['20240607_NCAA_3_TF.csv', '20240607_NCAA_3_TF.xlsx', '20240608_NCAA_4_TF.xlsx', '20240815_Seattle_U_SOC.xlsx', 'uo_athletics - Shortcut.lnk']\n"
     ]
    }
   ],
   "source": [
    "# uo athletics hard-coded here\n",
    "networkdir = \"L:/DigitalProjects/Metadata/uo_athletics/Work/processing\"\n",
    "workingdir = \"C:/Users/briesenb/uood/bmr_metadata_general_asstd/OD2_working_files/uo_athletics\"\n",
    "print(os.listdir(networkdir))\n",
    "print(os.listdir(workingdir))"
   ]
  },
  {
   "cell_type": "code",
   "execution_count": 11,
   "metadata": {},
   "outputs": [
    {
     "name": "stdout",
     "output_type": "stream",
     "text": [
      "HEADERS\n",
      "=====\n",
      "dmrec\n",
      "file\n",
      "identifier\n",
      "title\n",
      "description\n",
      "local_collection_name\n",
      "local_collection_id\n",
      "photographer\n",
      "date\n",
      "subject\n",
      "location\n",
      "resource_type\n",
      "format\n",
      "rights_statement\n",
      "license\n",
      "rights_holder\n",
      "parents\n",
      "institution\n",
      "model\n",
      "has_finding_aid\n",
      "visibility\n",
      "repository\n",
      "full_size_download_allowed\n"
     ]
    }
   ],
   "source": [
    "# review headers\n",
    "md_to_check = input(\"\"\"enter file in OD2_working_files to check as:\n",
    "                    [CSV filename with ext]\\n>>>\"\"\")\n",
    "with open(f\"{workingdir}/{md_to_check}\", \"r\", encoding=\"utf-8-sig\") as csvfile:\n",
    "    reader = csv.DictReader(csvfile)\n",
    "    headers = reader.fieldnames\n",
    "    print(f\"HEADERS\\n{\"=\"*5}\")\n",
    "    for item in headers:\n",
    "        print(item)"
   ]
  },
  {
   "cell_type": "code",
   "execution_count": 12,
   "metadata": {},
   "outputs": [
    {
     "name": "stdout",
     "output_type": "stream",
     "text": [
      "all files in spreadsheet match with files/\n"
     ]
    }
   ],
   "source": [
    "# compare files with file values\n",
    "files_to_check = input(\"\"\"enter files/ dir to check against filenames as:\n",
    "                       [Metadata ... uo_athletics ... processing > subfolder]\\n>>>\"\"\")\n",
    "files = os.listdir(f\"{networkdir}/{files_to_check}/files\")\n",
    "# print(len(files))\n",
    "with open(f\"{workingdir}/{md_to_check}\", \"r\", encoding=\"utf-8-sig\") as csvfile:\n",
    "    reader = csv.DictReader(csvfile)\n",
    "    # headers = reader.fieldnames\n",
    "    # print(headers)\n",
    "    counter = 0\n",
    "    for row in reader:\n",
    "        if row['file'] in files:\n",
    "            files.remove(row['file'])\n",
    "if len(files) > 0:\n",
    "    print(\"mismatch between filenames in spreadsheet and files in files/\")\n",
    "else:\n",
    "    print(\"all files in spreadsheet match with files/\")\n"
   ]
  },
  {
   "cell_type": "code",
   "execution_count": 13,
   "metadata": {},
   "outputs": [
    {
     "name": "stdout",
     "output_type": "stream",
     "text": [
      "filenames and identifiers match\n"
     ]
    }
   ],
   "source": [
    "# confirm file / identifier match\n",
    "# combine this with above??\n",
    "with open(f\"{workingdir}/{md_to_check}\", \"r\", encoding=\"utf-8-sig\") as csvfile:\n",
    "    reader = csv.DictReader(csvfile)\n",
    "    mismatch = []\n",
    "    for row in reader:\n",
    "        if row['identifier'] == row['file']:\n",
    "            mismatch.append(row['identifier'])\n",
    "if len(mismatch) > 0:\n",
    "    print(\"correct identifier values:\")\n",
    "    for item in mismatch:\n",
    "        print(item)\n",
    "else:\n",
    "    print(\"filenames and identifiers match\")"
   ]
  }
 ],
 "metadata": {
  "kernelspec": {
   "display_name": ".venv",
   "language": "python",
   "name": "python3"
  },
  "language_info": {
   "codemirror_mode": {
    "name": "ipython",
    "version": 3
   },
   "file_extension": ".py",
   "mimetype": "text/x-python",
   "name": "python",
   "nbconvert_exporter": "python",
   "pygments_lexer": "ipython3",
   "version": "3.12.8"
  }
 },
 "nbformat": 4,
 "nbformat_minor": 2
}
