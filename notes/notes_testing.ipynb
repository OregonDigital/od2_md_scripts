{
 "cells": [
  {
   "cell_type": "markdown",
   "metadata": {},
   "source": [
    "# to dos\n",
    "- confirm match from file column in csv for file in files/\\*\n",
    "- confirm match file <--> identifier\\*\n",
    "- columns taking IRIs\n",
    "    - eliminate spaces before / after\n",
    "    - check for missing '|'\n",
    "- replace old file with new\n",
    "    - summarize changes when replacing old file with new?\n",
    "- confirm no data in rows with no filename\n",
    "\n",
    "\n",
    "\\*is this just a UO Athletics thing??\n",
    "\n",
    "# ideas / questions\n",
    "- validate column headers - this could involve adding list of headers to colls data\n",
    "- force match folder + file names / rename folders and files\n",
    "- check encoding or otherwise avoid messed-up item titles\n",
    "- check identifier strings based on collection? \n",
    "- There's lots of collection-specific stuff that *could* be done but...\n"
   ]
  },
  {
   "cell_type": "code",
   "execution_count": 5,
   "metadata": {},
   "outputs": [],
   "source": [
    "import csv, os"
   ]
  },
  {
   "cell_type": "code",
   "execution_count": 6,
   "metadata": {},
   "outputs": [
    {
     "name": "stdout",
     "output_type": "stream",
     "text": [
      "['20240607_NCAA_3_TF.csv', '20240607_NCAA_3_TF.xlsx', 'files']\n",
      "['20240607_NCAA_3_TF.csv', 'desktop.ini']\n"
     ]
    }
   ],
   "source": [
    "networkdir = \"L:/DigitalProjects/Metadata/uo_athletics/Work/_processing/20240607_NCAA_3_TF\"\n",
    "workingdir = \"C:/Users/briesenb/OneDrive - University Of Oregon/bmr_metadata_general_asstd/OD2_working_files\"\n",
    "print(os.listdir(networkdir))\n",
    "print(os.listdir(workingdir))"
   ]
  },
  {
   "cell_type": "code",
   "execution_count": 10,
   "metadata": {},
   "outputs": [
    {
     "name": "stdout",
     "output_type": "stream",
     "text": [
      "HEADERS\n",
      "=====\n",
      "dmrec\n",
      "file\n",
      "identifier\n",
      "title\n",
      "description\n",
      "local_collection_name\n",
      "local_collection_id\n",
      "photographer\n",
      "date\n",
      "subject\n",
      "location\n",
      "resource_type\n",
      "format\n",
      "rights_statement\n",
      "license\n",
      "rights_holder\n",
      "parents\n",
      "institution\n",
      "model\n",
      "has_finding_aid\n",
      "visibility\n",
      "repository\n",
      "full_size_download_allowed\n"
     ]
    }
   ],
   "source": [
    "with open(f\"{workingdir}/20240607_NCAA_3_TF.csv\", \"r\", encoding=\"utf-8-sig\") as csvfile:\n",
    "    reader = csv.DictReader(csvfile)\n",
    "    headers = reader.fieldnames\n",
    "    print(f\"HEADERS\\n{\"=\"*5}\")\n",
    "    for item in headers:\n",
    "        print(item)"
   ]
  },
  {
   "cell_type": "code",
   "execution_count": 8,
   "metadata": {},
   "outputs": [
    {
     "name": "stdout",
     "output_type": "stream",
     "text": [
      "all files in spreadsheet match with files/\n"
     ]
    }
   ],
   "source": [
    "# compare files with file values\n",
    "files = os.listdir(f\"{networkdir}/files\")\n",
    "# print(len(files))\n",
    "with open(f\"{workingdir}/20240607_NCAA_3_TF.csv\", \"r\", encoding=\"utf-8-sig\") as csvfile:\n",
    "    reader = csv.DictReader(csvfile)\n",
    "    # headers = reader.fieldnames\n",
    "    # print(headers)\n",
    "    counter = 0\n",
    "    for row in reader:\n",
    "        if row['file'] in files:\n",
    "            files.remove(row['file'])\n",
    "if len(files) > 0:\n",
    "    print(\"mismatch between filenames in spreadsheet and files in files/\")\n",
    "else:\n",
    "    print(\"all files in spreadsheet match with files/\")\n"
   ]
  },
  {
   "cell_type": "code",
   "execution_count": 9,
   "metadata": {},
   "outputs": [
    {
     "name": "stdout",
     "output_type": "stream",
     "text": [
      "filenames and identifiers match\n"
     ]
    }
   ],
   "source": [
    "# confirm file / identifier match\n",
    "# combine this with above??\n",
    "with open(f\"{workingdir}/20240607_NCAA_3_TF.csv\", \"r\", encoding=\"utf-8-sig\") as csvfile:\n",
    "    reader = csv.DictReader(csvfile)\n",
    "    mismatch = []\n",
    "    for row in reader:\n",
    "        if row['identifier'] == row['file']:\n",
    "            mismatch.append(row['identifier'])\n",
    "if len(mismatch) > 0:\n",
    "    print(\"correct identifier values:\")\n",
    "    for item in mismatch:\n",
    "        print(item)\n",
    "else:\n",
    "    print(\"filenames and identifiers match\")"
   ]
  }
 ],
 "metadata": {
  "kernelspec": {
   "display_name": ".venv",
   "language": "python",
   "name": "python3"
  },
  "language_info": {
   "codemirror_mode": {
    "name": "ipython",
    "version": 3
   },
   "file_extension": ".py",
   "mimetype": "text/x-python",
   "name": "python",
   "nbconvert_exporter": "python",
   "pygments_lexer": "ipython3",
   "version": "3.12.8"
  }
 },
 "nbformat": 4,
 "nbformat_minor": 2
}
