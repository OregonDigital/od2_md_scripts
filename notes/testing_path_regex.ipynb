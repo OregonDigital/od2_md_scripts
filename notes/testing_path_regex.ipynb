{
 "cells": [
  {
   "cell_type": "markdown",
   "metadata": {},
   "source": [
    "**validating IRI values in CSV**\n",
    "\n",
    "see [regex101.com/r/96NrxH](https://regex101.com/r/96NrxH)"
   ]
  },
  {
   "cell_type": "code",
   "execution_count": null,
   "metadata": {},
   "outputs": [],
   "source": []
  },
  {
   "cell_type": "markdown",
   "metadata": {},
   "source": [
    "**copying Windows file paths into config.yaml**  \n",
    "📌 putting this off for now"
   ]
  },
  {
   "cell_type": "code",
   "execution_count": 11,
   "metadata": {},
   "outputs": [
    {
     "name": "stdout",
     "output_type": "stream",
     "text": [
      "L:\\Directory\\Metadata\\subfolder\\file.csv\n"
     ]
    }
   ],
   "source": [
    "path = r\"L:\\Directory\\Metadata\\subfolder\\file.csv\"\n",
    "path = path.translate({\"\\\\\": \"/\"})\n",
    "print(path)\n",
    "# try briefly to convert backslashes in Windows file path to forward slash, give up"
   ]
  }
 ],
 "metadata": {
  "kernelspec": {
   "display_name": ".venv",
   "language": "python",
   "name": "python3"
  },
  "language_info": {
   "codemirror_mode": {
    "name": "ipython",
    "version": 3
   },
   "file_extension": ".py",
   "mimetype": "text/x-python",
   "name": "python",
   "nbconvert_exporter": "python",
   "pygments_lexer": "ipython3",
   "version": "3.12.3"
  }
 },
 "nbformat": 4,
 "nbformat_minor": 2
}
